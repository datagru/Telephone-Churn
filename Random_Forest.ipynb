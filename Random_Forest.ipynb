{
 "cells": [
  {
   "cell_type": "code",
   "execution_count": 1,
   "metadata": {
    "collapsed": true
   },
   "outputs": [],
   "source": [
    "import dask.dataframe as dd\n",
    "import pandas as pd\n",
    "import os\n",
    "import time\n",
    "from dask.distributed import Client, LocalCluster"
   ]
  },
  {
   "cell_type": "code",
   "execution_count": 2,
   "metadata": {
    "collapsed": true
   },
   "outputs": [],
   "source": [
    "import numpy as np"
   ]
  },
  {
   "cell_type": "code",
   "execution_count": 3,
   "metadata": {
    "collapsed": true
   },
   "outputs": [],
   "source": [
    "from dask_ml.preprocessing import Categorizer, DummyEncoder"
   ]
  },
  {
   "cell_type": "code",
   "execution_count": 4,
   "metadata": {
    "collapsed": true
   },
   "outputs": [],
   "source": [
    "from sklearn.model_selection import train_test_split"
   ]
  },
  {
   "cell_type": "code",
   "execution_count": 5,
   "metadata": {
    "collapsed": true
   },
   "outputs": [],
   "source": [
    "os.chdir('F:\\\\User Data\\\\Sandeep Menon\\\\Colorado State Targeting')"
   ]
  },
  {
   "cell_type": "code",
   "execution_count": 6,
   "metadata": {
    "collapsed": true
   },
   "outputs": [],
   "source": [
    "Control_States = dd.read_csv(\"Random_Forest_Input_Clean_Py5.csv\",assume_missing=True,dtype={'TDLINX_OUTLET_CODE': 'object','TDLINX_MODULE_CHANGE_CODE': 'object','TDLINX_SUB_CHANNEL_CODE': 'object'})"
   ]
  },
  {
   "cell_type": "code",
   "execution_count": 7,
   "metadata": {},
   "outputs": [
    {
     "data": {
      "text/plain": [
       "361635"
      ]
     },
     "execution_count": 7,
     "metadata": {},
     "output_type": "execute_result"
    }
   ],
   "source": [
    "len(Control_States)"
   ]
  },
  {
   "cell_type": "code",
   "execution_count": 8,
   "metadata": {},
   "outputs": [
    {
     "data": {
      "text/html": [
       "<div>\n",
       "<style scoped>\n",
       "    .dataframe tbody tr th:only-of-type {\n",
       "        vertical-align: middle;\n",
       "    }\n",
       "\n",
       "    .dataframe tbody tr th {\n",
       "        vertical-align: top;\n",
       "    }\n",
       "\n",
       "    .dataframe thead th {\n",
       "        text-align: right;\n",
       "    }\n",
       "</style>\n",
       "<table border=\"1\" class=\"dataframe\">\n",
       "  <thead>\n",
       "    <tr style=\"text-align: right;\">\n",
       "      <th></th>\n",
       "      <th>TDLINX_OUTLET_CODE</th>\n",
       "      <th>Product</th>\n",
       "      <th>Sum_RAD_QTY_9L</th>\n",
       "      <th>Status</th>\n",
       "      <th>TradeAreaVolume_RAD_QTY_9L</th>\n",
       "      <th>TradeAreaBVVolume</th>\n",
       "      <th>Female-21</th>\n",
       "      <th>Female-65</th>\n",
       "      <th>Male-21</th>\n",
       "      <th>Male-65</th>\n",
       "      <th>...</th>\n",
       "      <th>AvgAwayExp-Wine</th>\n",
       "      <th>AvgAwayExp-Other</th>\n",
       "      <th>AvgExp-OnTrips</th>\n",
       "      <th>Mosaic</th>\n",
       "      <th>BRAND</th>\n",
       "      <th>Age 21-34</th>\n",
       "      <th>Age 34+</th>\n",
       "      <th>Income Low</th>\n",
       "      <th>Income Mid</th>\n",
       "      <th>Income High</th>\n",
       "    </tr>\n",
       "  </thead>\n",
       "  <tbody>\n",
       "    <tr>\n",
       "      <th>0</th>\n",
       "      <td>0109172</td>\n",
       "      <td>Ciroc Red Berry Vodka 0.05L</td>\n",
       "      <td>0.0</td>\n",
       "      <td>New</td>\n",
       "      <td>163498.567907</td>\n",
       "      <td>0.0</td>\n",
       "      <td>341165.0</td>\n",
       "      <td>60313.0</td>\n",
       "      <td>341181.0</td>\n",
       "      <td>46443.0</td>\n",
       "      <td>...</td>\n",
       "      <td>36.85</td>\n",
       "      <td>36.86</td>\n",
       "      <td>61.90</td>\n",
       "      <td>Group O Singles and Starters</td>\n",
       "      <td>178.0</td>\n",
       "      <td>219608.0</td>\n",
       "      <td>355981.0</td>\n",
       "      <td>148317.0</td>\n",
       "      <td>176700.0</td>\n",
       "      <td>42275.0</td>\n",
       "    </tr>\n",
       "    <tr>\n",
       "      <th>1</th>\n",
       "      <td>0110025</td>\n",
       "      <td>Ciroc Red Berry Vodka 0.05L</td>\n",
       "      <td>0.0</td>\n",
       "      <td>New</td>\n",
       "      <td>95883.430747</td>\n",
       "      <td>0.0</td>\n",
       "      <td>209610.0</td>\n",
       "      <td>42533.0</td>\n",
       "      <td>208718.0</td>\n",
       "      <td>32891.0</td>\n",
       "      <td>...</td>\n",
       "      <td>36.09</td>\n",
       "      <td>35.27</td>\n",
       "      <td>60.72</td>\n",
       "      <td>Group O Singles and Starters</td>\n",
       "      <td>178.0</td>\n",
       "      <td>126464.0</td>\n",
       "      <td>216437.0</td>\n",
       "      <td>92688.0</td>\n",
       "      <td>105812.0</td>\n",
       "      <td>25010.0</td>\n",
       "    </tr>\n",
       "    <tr>\n",
       "      <th>2</th>\n",
       "      <td>0110350</td>\n",
       "      <td>Ciroc Red Berry Vodka 0.05L</td>\n",
       "      <td>0.0</td>\n",
       "      <td>New</td>\n",
       "      <td>62112.688735</td>\n",
       "      <td>0.0</td>\n",
       "      <td>165449.0</td>\n",
       "      <td>30980.0</td>\n",
       "      <td>161411.0</td>\n",
       "      <td>22821.0</td>\n",
       "      <td>...</td>\n",
       "      <td>32.01</td>\n",
       "      <td>34.60</td>\n",
       "      <td>55.37</td>\n",
       "      <td>Group O Singles and Starters</td>\n",
       "      <td>178.0</td>\n",
       "      <td>111295.0</td>\n",
       "      <td>161764.0</td>\n",
       "      <td>84031.0</td>\n",
       "      <td>86327.0</td>\n",
       "      <td>11959.0</td>\n",
       "    </tr>\n",
       "    <tr>\n",
       "      <th>3</th>\n",
       "      <td>0110506</td>\n",
       "      <td>Ciroc Red Berry Vodka 0.05L</td>\n",
       "      <td>0.0</td>\n",
       "      <td>New</td>\n",
       "      <td>1184.438875</td>\n",
       "      <td>0.0</td>\n",
       "      <td>3661.0</td>\n",
       "      <td>1143.0</td>\n",
       "      <td>3769.0</td>\n",
       "      <td>925.0</td>\n",
       "      <td>...</td>\n",
       "      <td>26.52</td>\n",
       "      <td>26.03</td>\n",
       "      <td>45.26</td>\n",
       "      <td>Group J Autumn Years</td>\n",
       "      <td>178.0</td>\n",
       "      <td>1675.0</td>\n",
       "      <td>3686.0</td>\n",
       "      <td>2551.0</td>\n",
       "      <td>1470.0</td>\n",
       "      <td>93.0</td>\n",
       "    </tr>\n",
       "    <tr>\n",
       "      <th>4</th>\n",
       "      <td>0110586</td>\n",
       "      <td>Ciroc Red Berry Vodka 0.05L</td>\n",
       "      <td>0.0</td>\n",
       "      <td>New</td>\n",
       "      <td>3378.383316</td>\n",
       "      <td>0.0</td>\n",
       "      <td>11851.0</td>\n",
       "      <td>3921.0</td>\n",
       "      <td>15649.0</td>\n",
       "      <td>3311.0</td>\n",
       "      <td>...</td>\n",
       "      <td>31.32</td>\n",
       "      <td>30.23</td>\n",
       "      <td>53.67</td>\n",
       "      <td>Group Q Golden Year Guardians</td>\n",
       "      <td>178.0</td>\n",
       "      <td>6451.0</td>\n",
       "      <td>13819.0</td>\n",
       "      <td>7258.0</td>\n",
       "      <td>4998.0</td>\n",
       "      <td>484.0</td>\n",
       "    </tr>\n",
       "  </tbody>\n",
       "</table>\n",
       "<p>5 rows × 33 columns</p>\n",
       "</div>"
      ],
      "text/plain": [
       "  TDLINX_OUTLET_CODE                      Product  Sum_RAD_QTY_9L Status  \\\n",
       "0            0109172  Ciroc Red Berry Vodka 0.05L             0.0    New   \n",
       "1            0110025  Ciroc Red Berry Vodka 0.05L             0.0    New   \n",
       "2            0110350  Ciroc Red Berry Vodka 0.05L             0.0    New   \n",
       "3            0110506  Ciroc Red Berry Vodka 0.05L             0.0    New   \n",
       "4            0110586  Ciroc Red Berry Vodka 0.05L             0.0    New   \n",
       "\n",
       "   TradeAreaVolume_RAD_QTY_9L  TradeAreaBVVolume  Female-21  Female-65  \\\n",
       "0               163498.567907                0.0   341165.0    60313.0   \n",
       "1                95883.430747                0.0   209610.0    42533.0   \n",
       "2                62112.688735                0.0   165449.0    30980.0   \n",
       "3                 1184.438875                0.0     3661.0     1143.0   \n",
       "4                 3378.383316                0.0    11851.0     3921.0   \n",
       "\n",
       "    Male-21  Male-65     ...       AvgAwayExp-Wine  AvgAwayExp-Other  \\\n",
       "0  341181.0  46443.0     ...                 36.85             36.86   \n",
       "1  208718.0  32891.0     ...                 36.09             35.27   \n",
       "2  161411.0  22821.0     ...                 32.01             34.60   \n",
       "3    3769.0    925.0     ...                 26.52             26.03   \n",
       "4   15649.0   3311.0     ...                 31.32             30.23   \n",
       "\n",
       "   AvgExp-OnTrips                         Mosaic  BRAND  Age 21-34   Age 34+  \\\n",
       "0           61.90   Group O Singles and Starters  178.0   219608.0  355981.0   \n",
       "1           60.72   Group O Singles and Starters  178.0   126464.0  216437.0   \n",
       "2           55.37   Group O Singles and Starters  178.0   111295.0  161764.0   \n",
       "3           45.26           Group J Autumn Years  178.0     1675.0    3686.0   \n",
       "4           53.67  Group Q Golden Year Guardians  178.0     6451.0   13819.0   \n",
       "\n",
       "   Income Low  Income Mid  Income High  \n",
       "0    148317.0    176700.0      42275.0  \n",
       "1     92688.0    105812.0      25010.0  \n",
       "2     84031.0     86327.0      11959.0  \n",
       "3      2551.0      1470.0         93.0  \n",
       "4      7258.0      4998.0        484.0  \n",
       "\n",
       "[5 rows x 33 columns]"
      ]
     },
     "execution_count": 8,
     "metadata": {},
     "output_type": "execute_result"
    }
   ],
   "source": [
    "Control_States.head()"
   ]
  },
  {
   "cell_type": "code",
   "execution_count": 9,
   "metadata": {
    "collapsed": true
   },
   "outputs": [],
   "source": [
    "Control_States['TDLINX_OUTLET_CODE']=Control_States['TDLINX_OUTLET_CODE'].astype('object')"
   ]
  },
  {
   "cell_type": "code",
   "execution_count": 10,
   "metadata": {
    "scrolled": true
   },
   "outputs": [
    {
     "data": {
      "text/plain": [
       "TDLINX_OUTLET_CODE             object\n",
       "Product                        object\n",
       "Sum_RAD_QTY_9L                float64\n",
       "Status                         object\n",
       "TradeAreaVolume_RAD_QTY_9L    float64\n",
       "TradeAreaBVVolume             float64\n",
       "Female-21                     float64\n",
       "Female-65                     float64\n",
       "Male-21                       float64\n",
       "Male-65                       float64\n",
       "Asian 21                      float64\n",
       "Asian 65                      float64\n",
       "AfAm 21                       float64\n",
       "AfAm 65                       float64\n",
       "Hisp 21                       float64\n",
       "Hisp 65                       float64\n",
       "White 21                      float64\n",
       "White 65                      float64\n",
       "AvgHomeExp-Beer               float64\n",
       "AvgHomeExp-Whiskey            float64\n",
       "AvgHomeExp-Wine               float64\n",
       "AvgHomeExp-Others             float64\n",
       "AvgAwayExp-Beer               float64\n",
       "AvgAwayExp-Wine               float64\n",
       "AvgAwayExp-Other              float64\n",
       "AvgExp-OnTrips                float64\n",
       "Mosaic                         object\n",
       "BRAND                         float64\n",
       "Age 21-34                     float64\n",
       "Age 34+                       float64\n",
       "Income Low                    float64\n",
       "Income Mid                    float64\n",
       "Income High                   float64\n",
       "dtype: object"
      ]
     },
     "execution_count": 10,
     "metadata": {},
     "output_type": "execute_result"
    }
   ],
   "source": [
    "Control_States.dtypes"
   ]
  },
  {
   "cell_type": "code",
   "execution_count": 11,
   "metadata": {
    "collapsed": true
   },
   "outputs": [],
   "source": [
    "df_category = Control_States.select_dtypes(include=['object'])"
   ]
  },
  {
   "cell_type": "code",
   "execution_count": 12,
   "metadata": {
    "collapsed": true
   },
   "outputs": [],
   "source": [
    "df_float = Control_States.select_dtypes(include=['float64'])"
   ]
  },
  {
   "cell_type": "code",
   "execution_count": 13,
   "metadata": {},
   "outputs": [
    {
     "data": {
      "text/plain": [
       "4"
      ]
     },
     "execution_count": 13,
     "metadata": {},
     "output_type": "execute_result"
    }
   ],
   "source": [
    "len(df_category.columns)"
   ]
  },
  {
   "cell_type": "code",
   "execution_count": 14,
   "metadata": {
    "collapsed": true
   },
   "outputs": [],
   "source": [
    "df_category_columns = list(df_category.columns)"
   ]
  },
  {
   "cell_type": "code",
   "execution_count": 15,
   "metadata": {
    "collapsed": true
   },
   "outputs": [],
   "source": [
    "for col in df_category_columns:\n",
    "    Control_States[col]=Control_States[col].astype('category')"
   ]
  },
  {
   "cell_type": "code",
   "execution_count": 16,
   "metadata": {},
   "outputs": [],
   "source": [
    "BV_List = set(list(Control_States['Product'].compute()))"
   ]
  },
  {
   "cell_type": "code",
   "execution_count": 17,
   "metadata": {},
   "outputs": [
    {
     "data": {
      "text/plain": [
       "57"
      ]
     },
     "execution_count": 17,
     "metadata": {},
     "output_type": "execute_result"
    }
   ],
   "source": [
    "len(BV_List)"
   ]
  },
  {
   "cell_type": "code",
   "execution_count": 18,
   "metadata": {
    "collapsed": true
   },
   "outputs": [],
   "source": [
    "n=len(BV_List)"
   ]
  },
  {
   "cell_type": "code",
   "execution_count": 19,
   "metadata": {},
   "outputs": [
    {
     "data": {
      "text/plain": [
       "Index(['TDLINX_OUTLET_CODE', 'Product', 'Status', 'Mosaic'], dtype='object')"
      ]
     },
     "execution_count": 19,
     "metadata": {},
     "output_type": "execute_result"
    }
   ],
   "source": [
    "df_category.columns"
   ]
  },
  {
   "cell_type": "code",
   "execution_count": 20,
   "metadata": {
    "collapsed": true
   },
   "outputs": [],
   "source": [
    "#df_category_model = df_category.drop(['TDLINX_OUTLET_CODE','INDIVIDUAL_BRAND_SIZE_DESC','TDLINX_OUTLET_DESC','TDLINX_OUTLET_CITY',\n",
    "#                                   'PLACE_DESC','COUNTY_DESC','COUNTRY_DESC','TDLINX_SECTOR_DESC','TDLINX_SUB_CHANNEL_DESC',\n",
    "#                                    'TDLINX_CHAIN_IND_DESC','TDLINX_FOOD_TYPE_DESC','SPIRITS_NRI_CATEGORY_DESC','TDLINX_OUTLET_STATUS_DESC'],axis=1)"
   ]
  },
  {
   "cell_type": "code",
   "execution_count": 21,
   "metadata": {
    "collapsed": true
   },
   "outputs": [],
   "source": [
    "df_category_model = df_category.drop(['TDLINX_OUTLET_CODE','Mosaic'],axis=1)"
   ]
  },
  {
   "cell_type": "code",
   "execution_count": 22,
   "metadata": {
    "collapsed": true
   },
   "outputs": [],
   "source": [
    "#BV = df_category_model['INDIVIDUAL_BRAND_DESC'].compute()\n",
    "BV1 = df_category_model.loc[:,'Product']"
   ]
  },
  {
   "cell_type": "code",
   "execution_count": 23,
   "metadata": {},
   "outputs": [
    {
     "data": {
      "text/plain": [
       "dask.dataframe.core.Series"
      ]
     },
     "execution_count": 23,
     "metadata": {},
     "output_type": "execute_result"
    }
   ],
   "source": [
    "#type(BV)\n",
    "type(BV1)"
   ]
  },
  {
   "cell_type": "code",
   "execution_count": 24,
   "metadata": {
    "collapsed": true
   },
   "outputs": [],
   "source": [
    "df_float = df_float.drop(['BRAND'],axis=1)"
   ]
  },
  {
   "cell_type": "code",
   "execution_count": 25,
   "metadata": {
    "collapsed": true
   },
   "outputs": [],
   "source": [
    "df_category_model = df_category_model.categorize()"
   ]
  },
  {
   "cell_type": "code",
   "execution_count": 26,
   "metadata": {},
   "outputs": [
    {
     "data": {
      "text/plain": [
       "Product    category\n",
       "Status     category\n",
       "dtype: object"
      ]
     },
     "execution_count": 26,
     "metadata": {},
     "output_type": "execute_result"
    }
   ],
   "source": [
    "df_category_model.dtypes"
   ]
  },
  {
   "cell_type": "code",
   "execution_count": 27,
   "metadata": {
    "collapsed": true
   },
   "outputs": [],
   "source": [
    "de = DummyEncoder()\n",
    "trn = de.fit_transform(df_category_model)"
   ]
  },
  {
   "cell_type": "code",
   "execution_count": 28,
   "metadata": {},
   "outputs": [
    {
     "data": {
      "text/html": [
       "<div>\n",
       "<style scoped>\n",
       "    .dataframe tbody tr th:only-of-type {\n",
       "        vertical-align: middle;\n",
       "    }\n",
       "\n",
       "    .dataframe tbody tr th {\n",
       "        vertical-align: top;\n",
       "    }\n",
       "\n",
       "    .dataframe thead th {\n",
       "        text-align: right;\n",
       "    }\n",
       "</style>\n",
       "<table border=\"1\" class=\"dataframe\">\n",
       "  <thead>\n",
       "    <tr style=\"text-align: right;\">\n",
       "      <th></th>\n",
       "      <th>Product_Ciroc Red Berry Vodka 0.05L</th>\n",
       "      <th>Product_Ciroc Red Berry Vodka 1.0L</th>\n",
       "      <th>Product_Ciroc Red Berry Vodka 1.75L</th>\n",
       "      <th>Product_Ciroc Summer Colada 0.375L</th>\n",
       "      <th>Product_Ciroc Summer Colada 0.75L</th>\n",
       "      <th>Product_Ciroc Summer Colada 1.0L</th>\n",
       "      <th>Product_Ciroc Ten</th>\n",
       "      <th>Product_Ciroc Vodka</th>\n",
       "      <th>Product_Ciroc Vodka 0.05L</th>\n",
       "      <th>Product_Ciroc Vodka 1.75L</th>\n",
       "      <th>...</th>\n",
       "      <th>Product_JW Blue Label 0.2L</th>\n",
       "      <th>Product_JW Blue Label 0.75L</th>\n",
       "      <th>Product_JW Blue Label Ghost and Rare</th>\n",
       "      <th>Product_JW Blue Label Ghost and Rare 0.75L</th>\n",
       "      <th>Product_JW Double Black</th>\n",
       "      <th>Product_JW Red Label 0.2L</th>\n",
       "      <th>Product_JW Red Label 0.375L</th>\n",
       "      <th>Product_JW The Collection 0.2L</th>\n",
       "      <th>Status_New</th>\n",
       "      <th>Status_Existing</th>\n",
       "    </tr>\n",
       "  </thead>\n",
       "  <tbody>\n",
       "    <tr>\n",
       "      <th>0</th>\n",
       "      <td>1</td>\n",
       "      <td>0</td>\n",
       "      <td>0</td>\n",
       "      <td>0</td>\n",
       "      <td>0</td>\n",
       "      <td>0</td>\n",
       "      <td>0</td>\n",
       "      <td>0</td>\n",
       "      <td>0</td>\n",
       "      <td>0</td>\n",
       "      <td>...</td>\n",
       "      <td>0</td>\n",
       "      <td>0</td>\n",
       "      <td>0</td>\n",
       "      <td>0</td>\n",
       "      <td>0</td>\n",
       "      <td>0</td>\n",
       "      <td>0</td>\n",
       "      <td>0</td>\n",
       "      <td>1</td>\n",
       "      <td>0</td>\n",
       "    </tr>\n",
       "    <tr>\n",
       "      <th>1</th>\n",
       "      <td>1</td>\n",
       "      <td>0</td>\n",
       "      <td>0</td>\n",
       "      <td>0</td>\n",
       "      <td>0</td>\n",
       "      <td>0</td>\n",
       "      <td>0</td>\n",
       "      <td>0</td>\n",
       "      <td>0</td>\n",
       "      <td>0</td>\n",
       "      <td>...</td>\n",
       "      <td>0</td>\n",
       "      <td>0</td>\n",
       "      <td>0</td>\n",
       "      <td>0</td>\n",
       "      <td>0</td>\n",
       "      <td>0</td>\n",
       "      <td>0</td>\n",
       "      <td>0</td>\n",
       "      <td>1</td>\n",
       "      <td>0</td>\n",
       "    </tr>\n",
       "    <tr>\n",
       "      <th>2</th>\n",
       "      <td>1</td>\n",
       "      <td>0</td>\n",
       "      <td>0</td>\n",
       "      <td>0</td>\n",
       "      <td>0</td>\n",
       "      <td>0</td>\n",
       "      <td>0</td>\n",
       "      <td>0</td>\n",
       "      <td>0</td>\n",
       "      <td>0</td>\n",
       "      <td>...</td>\n",
       "      <td>0</td>\n",
       "      <td>0</td>\n",
       "      <td>0</td>\n",
       "      <td>0</td>\n",
       "      <td>0</td>\n",
       "      <td>0</td>\n",
       "      <td>0</td>\n",
       "      <td>0</td>\n",
       "      <td>1</td>\n",
       "      <td>0</td>\n",
       "    </tr>\n",
       "    <tr>\n",
       "      <th>3</th>\n",
       "      <td>1</td>\n",
       "      <td>0</td>\n",
       "      <td>0</td>\n",
       "      <td>0</td>\n",
       "      <td>0</td>\n",
       "      <td>0</td>\n",
       "      <td>0</td>\n",
       "      <td>0</td>\n",
       "      <td>0</td>\n",
       "      <td>0</td>\n",
       "      <td>...</td>\n",
       "      <td>0</td>\n",
       "      <td>0</td>\n",
       "      <td>0</td>\n",
       "      <td>0</td>\n",
       "      <td>0</td>\n",
       "      <td>0</td>\n",
       "      <td>0</td>\n",
       "      <td>0</td>\n",
       "      <td>1</td>\n",
       "      <td>0</td>\n",
       "    </tr>\n",
       "    <tr>\n",
       "      <th>4</th>\n",
       "      <td>1</td>\n",
       "      <td>0</td>\n",
       "      <td>0</td>\n",
       "      <td>0</td>\n",
       "      <td>0</td>\n",
       "      <td>0</td>\n",
       "      <td>0</td>\n",
       "      <td>0</td>\n",
       "      <td>0</td>\n",
       "      <td>0</td>\n",
       "      <td>...</td>\n",
       "      <td>0</td>\n",
       "      <td>0</td>\n",
       "      <td>0</td>\n",
       "      <td>0</td>\n",
       "      <td>0</td>\n",
       "      <td>0</td>\n",
       "      <td>0</td>\n",
       "      <td>0</td>\n",
       "      <td>1</td>\n",
       "      <td>0</td>\n",
       "    </tr>\n",
       "  </tbody>\n",
       "</table>\n",
       "<p>5 rows × 59 columns</p>\n",
       "</div>"
      ],
      "text/plain": [
       "   Product_Ciroc Red Berry Vodka 0.05L  Product_Ciroc Red Berry Vodka 1.0L  \\\n",
       "0                                    1                                   0   \n",
       "1                                    1                                   0   \n",
       "2                                    1                                   0   \n",
       "3                                    1                                   0   \n",
       "4                                    1                                   0   \n",
       "\n",
       "   Product_Ciroc Red Berry Vodka 1.75L  Product_Ciroc Summer Colada 0.375L  \\\n",
       "0                                    0                                   0   \n",
       "1                                    0                                   0   \n",
       "2                                    0                                   0   \n",
       "3                                    0                                   0   \n",
       "4                                    0                                   0   \n",
       "\n",
       "   Product_Ciroc Summer Colada 0.75L  Product_Ciroc Summer Colada 1.0L  \\\n",
       "0                                  0                                 0   \n",
       "1                                  0                                 0   \n",
       "2                                  0                                 0   \n",
       "3                                  0                                 0   \n",
       "4                                  0                                 0   \n",
       "\n",
       "   Product_Ciroc Ten  Product_Ciroc Vodka  Product_Ciroc Vodka 0.05L  \\\n",
       "0                  0                    0                          0   \n",
       "1                  0                    0                          0   \n",
       "2                  0                    0                          0   \n",
       "3                  0                    0                          0   \n",
       "4                  0                    0                          0   \n",
       "\n",
       "   Product_Ciroc Vodka 1.75L       ...         Product_JW Blue Label 0.2L  \\\n",
       "0                          0       ...                                  0   \n",
       "1                          0       ...                                  0   \n",
       "2                          0       ...                                  0   \n",
       "3                          0       ...                                  0   \n",
       "4                          0       ...                                  0   \n",
       "\n",
       "   Product_JW Blue Label 0.75L  Product_JW Blue Label Ghost and Rare  \\\n",
       "0                            0                                     0   \n",
       "1                            0                                     0   \n",
       "2                            0                                     0   \n",
       "3                            0                                     0   \n",
       "4                            0                                     0   \n",
       "\n",
       "   Product_JW Blue Label Ghost and Rare 0.75L  Product_JW Double Black  \\\n",
       "0                                           0                        0   \n",
       "1                                           0                        0   \n",
       "2                                           0                        0   \n",
       "3                                           0                        0   \n",
       "4                                           0                        0   \n",
       "\n",
       "   Product_JW Red Label 0.2L  Product_JW Red Label 0.375L  \\\n",
       "0                          0                            0   \n",
       "1                          0                            0   \n",
       "2                          0                            0   \n",
       "3                          0                            0   \n",
       "4                          0                            0   \n",
       "\n",
       "   Product_JW The Collection 0.2L  Status_New  Status_Existing  \n",
       "0                               0           1                0  \n",
       "1                               0           1                0  \n",
       "2                               0           1                0  \n",
       "3                               0           1                0  \n",
       "4                               0           1                0  \n",
       "\n",
       "[5 rows x 59 columns]"
      ]
     },
     "execution_count": 28,
     "metadata": {},
     "output_type": "execute_result"
    }
   ],
   "source": [
    "trn.head()"
   ]
  },
  {
   "cell_type": "code",
   "execution_count": 29,
   "metadata": {},
   "outputs": [
    {
     "data": {
      "text/plain": [
       "Sum_RAD_QTY_9L                float64\n",
       "TradeAreaVolume_RAD_QTY_9L    float64\n",
       "TradeAreaBVVolume             float64\n",
       "Female-21                     float64\n",
       "Female-65                     float64\n",
       "Male-21                       float64\n",
       "Male-65                       float64\n",
       "Asian 21                      float64\n",
       "Asian 65                      float64\n",
       "AfAm 21                       float64\n",
       "AfAm 65                       float64\n",
       "Hisp 21                       float64\n",
       "Hisp 65                       float64\n",
       "White 21                      float64\n",
       "White 65                      float64\n",
       "AvgHomeExp-Beer               float64\n",
       "AvgHomeExp-Whiskey            float64\n",
       "AvgHomeExp-Wine               float64\n",
       "AvgHomeExp-Others             float64\n",
       "AvgAwayExp-Beer               float64\n",
       "AvgAwayExp-Wine               float64\n",
       "AvgAwayExp-Other              float64\n",
       "AvgExp-OnTrips                float64\n",
       "Age 21-34                     float64\n",
       "Age 34+                       float64\n",
       "Income Low                    float64\n",
       "Income Mid                    float64\n",
       "Income High                   float64\n",
       "dtype: object"
      ]
     },
     "execution_count": 29,
     "metadata": {},
     "output_type": "execute_result"
    }
   ],
   "source": [
    "df_float.dtypes"
   ]
  },
  {
   "cell_type": "code",
   "execution_count": 30,
   "metadata": {
    "collapsed": true
   },
   "outputs": [],
   "source": [
    "#df_float = df_float.drop(['LATITUDE','LONGITUDE','SELLING_SPACE_AREA'],axis=1)"
   ]
  },
  {
   "cell_type": "code",
   "execution_count": 31,
   "metadata": {},
   "outputs": [
    {
     "data": {
      "text/html": [
       "<div>\n",
       "<style scoped>\n",
       "    .dataframe tbody tr th:only-of-type {\n",
       "        vertical-align: middle;\n",
       "    }\n",
       "\n",
       "    .dataframe tbody tr th {\n",
       "        vertical-align: top;\n",
       "    }\n",
       "\n",
       "    .dataframe thead th {\n",
       "        text-align: right;\n",
       "    }\n",
       "</style>\n",
       "<table border=\"1\" class=\"dataframe\">\n",
       "  <thead>\n",
       "    <tr style=\"text-align: right;\">\n",
       "      <th></th>\n",
       "      <th>Sum_RAD_QTY_9L</th>\n",
       "      <th>TradeAreaVolume_RAD_QTY_9L</th>\n",
       "      <th>TradeAreaBVVolume</th>\n",
       "      <th>Female-21</th>\n",
       "      <th>Female-65</th>\n",
       "      <th>Male-21</th>\n",
       "      <th>Male-65</th>\n",
       "      <th>Asian 21</th>\n",
       "      <th>Asian 65</th>\n",
       "      <th>AfAm 21</th>\n",
       "      <th>...</th>\n",
       "      <th>AvgHomeExp-Others</th>\n",
       "      <th>AvgAwayExp-Beer</th>\n",
       "      <th>AvgAwayExp-Wine</th>\n",
       "      <th>AvgAwayExp-Other</th>\n",
       "      <th>AvgExp-OnTrips</th>\n",
       "      <th>Age 21-34</th>\n",
       "      <th>Age 34+</th>\n",
       "      <th>Income Low</th>\n",
       "      <th>Income Mid</th>\n",
       "      <th>Income High</th>\n",
       "    </tr>\n",
       "  </thead>\n",
       "  <tbody>\n",
       "    <tr>\n",
       "      <th>0</th>\n",
       "      <td>0.0</td>\n",
       "      <td>163498.567907</td>\n",
       "      <td>0.0</td>\n",
       "      <td>341165.0</td>\n",
       "      <td>60313.0</td>\n",
       "      <td>341181.0</td>\n",
       "      <td>46443.0</td>\n",
       "      <td>23754.0</td>\n",
       "      <td>2944.0</td>\n",
       "      <td>25720.0</td>\n",
       "      <td>...</td>\n",
       "      <td>17.02</td>\n",
       "      <td>100.11</td>\n",
       "      <td>36.85</td>\n",
       "      <td>36.86</td>\n",
       "      <td>61.90</td>\n",
       "      <td>219608.0</td>\n",
       "      <td>355981.0</td>\n",
       "      <td>148317.0</td>\n",
       "      <td>176700.0</td>\n",
       "      <td>42275.0</td>\n",
       "    </tr>\n",
       "    <tr>\n",
       "      <th>1</th>\n",
       "      <td>0.0</td>\n",
       "      <td>95883.430747</td>\n",
       "      <td>0.0</td>\n",
       "      <td>209610.0</td>\n",
       "      <td>42533.0</td>\n",
       "      <td>208718.0</td>\n",
       "      <td>32891.0</td>\n",
       "      <td>10559.0</td>\n",
       "      <td>1613.0</td>\n",
       "      <td>6642.0</td>\n",
       "      <td>...</td>\n",
       "      <td>16.85</td>\n",
       "      <td>94.75</td>\n",
       "      <td>36.09</td>\n",
       "      <td>35.27</td>\n",
       "      <td>60.72</td>\n",
       "      <td>126464.0</td>\n",
       "      <td>216437.0</td>\n",
       "      <td>92688.0</td>\n",
       "      <td>105812.0</td>\n",
       "      <td>25010.0</td>\n",
       "    </tr>\n",
       "    <tr>\n",
       "      <th>2</th>\n",
       "      <td>0.0</td>\n",
       "      <td>62112.688735</td>\n",
       "      <td>0.0</td>\n",
       "      <td>165449.0</td>\n",
       "      <td>30980.0</td>\n",
       "      <td>161411.0</td>\n",
       "      <td>22821.0</td>\n",
       "      <td>10100.0</td>\n",
       "      <td>1352.0</td>\n",
       "      <td>24283.0</td>\n",
       "      <td>...</td>\n",
       "      <td>15.62</td>\n",
       "      <td>91.21</td>\n",
       "      <td>32.01</td>\n",
       "      <td>34.60</td>\n",
       "      <td>55.37</td>\n",
       "      <td>111295.0</td>\n",
       "      <td>161764.0</td>\n",
       "      <td>84031.0</td>\n",
       "      <td>86327.0</td>\n",
       "      <td>11959.0</td>\n",
       "    </tr>\n",
       "    <tr>\n",
       "      <th>3</th>\n",
       "      <td>0.0</td>\n",
       "      <td>1184.438875</td>\n",
       "      <td>0.0</td>\n",
       "      <td>3661.0</td>\n",
       "      <td>1143.0</td>\n",
       "      <td>3769.0</td>\n",
       "      <td>925.0</td>\n",
       "      <td>95.0</td>\n",
       "      <td>11.0</td>\n",
       "      <td>109.0</td>\n",
       "      <td>...</td>\n",
       "      <td>13.24</td>\n",
       "      <td>58.23</td>\n",
       "      <td>26.52</td>\n",
       "      <td>26.03</td>\n",
       "      <td>45.26</td>\n",
       "      <td>1675.0</td>\n",
       "      <td>3686.0</td>\n",
       "      <td>2551.0</td>\n",
       "      <td>1470.0</td>\n",
       "      <td>93.0</td>\n",
       "    </tr>\n",
       "    <tr>\n",
       "      <th>4</th>\n",
       "      <td>0.0</td>\n",
       "      <td>3378.383316</td>\n",
       "      <td>0.0</td>\n",
       "      <td>11851.0</td>\n",
       "      <td>3921.0</td>\n",
       "      <td>15649.0</td>\n",
       "      <td>3311.0</td>\n",
       "      <td>192.0</td>\n",
       "      <td>18.0</td>\n",
       "      <td>870.0</td>\n",
       "      <td>...</td>\n",
       "      <td>15.22</td>\n",
       "      <td>74.28</td>\n",
       "      <td>31.32</td>\n",
       "      <td>30.23</td>\n",
       "      <td>53.67</td>\n",
       "      <td>6451.0</td>\n",
       "      <td>13819.0</td>\n",
       "      <td>7258.0</td>\n",
       "      <td>4998.0</td>\n",
       "      <td>484.0</td>\n",
       "    </tr>\n",
       "  </tbody>\n",
       "</table>\n",
       "<p>5 rows × 28 columns</p>\n",
       "</div>"
      ],
      "text/plain": [
       "   Sum_RAD_QTY_9L  TradeAreaVolume_RAD_QTY_9L  TradeAreaBVVolume  Female-21  \\\n",
       "0             0.0               163498.567907                0.0   341165.0   \n",
       "1             0.0                95883.430747                0.0   209610.0   \n",
       "2             0.0                62112.688735                0.0   165449.0   \n",
       "3             0.0                 1184.438875                0.0     3661.0   \n",
       "4             0.0                 3378.383316                0.0    11851.0   \n",
       "\n",
       "   Female-65   Male-21  Male-65  Asian 21  Asian 65  AfAm 21     ...       \\\n",
       "0    60313.0  341181.0  46443.0   23754.0    2944.0  25720.0     ...        \n",
       "1    42533.0  208718.0  32891.0   10559.0    1613.0   6642.0     ...        \n",
       "2    30980.0  161411.0  22821.0   10100.0    1352.0  24283.0     ...        \n",
       "3     1143.0    3769.0    925.0      95.0      11.0    109.0     ...        \n",
       "4     3921.0   15649.0   3311.0     192.0      18.0    870.0     ...        \n",
       "\n",
       "   AvgHomeExp-Others  AvgAwayExp-Beer  AvgAwayExp-Wine  AvgAwayExp-Other  \\\n",
       "0              17.02           100.11            36.85             36.86   \n",
       "1              16.85            94.75            36.09             35.27   \n",
       "2              15.62            91.21            32.01             34.60   \n",
       "3              13.24            58.23            26.52             26.03   \n",
       "4              15.22            74.28            31.32             30.23   \n",
       "\n",
       "   AvgExp-OnTrips  Age 21-34   Age 34+  Income Low  Income Mid  Income High  \n",
       "0           61.90   219608.0  355981.0    148317.0    176700.0      42275.0  \n",
       "1           60.72   126464.0  216437.0     92688.0    105812.0      25010.0  \n",
       "2           55.37   111295.0  161764.0     84031.0     86327.0      11959.0  \n",
       "3           45.26     1675.0    3686.0      2551.0      1470.0         93.0  \n",
       "4           53.67     6451.0   13819.0      7258.0      4998.0        484.0  \n",
       "\n",
       "[5 rows x 28 columns]"
      ]
     },
     "execution_count": 31,
     "metadata": {},
     "output_type": "execute_result"
    }
   ],
   "source": [
    "df_float.head()"
   ]
  },
  {
   "cell_type": "code",
   "execution_count": 32,
   "metadata": {},
   "outputs": [
    {
     "name": "stderr",
     "output_type": "stream",
     "text": [
      "C:\\ProgramData\\Anaconda3\\lib\\site-packages\\dask\\dataframe\\multi.py:602: UserWarning: Concatenating dataframes with unknown divisions.\n",
      "We're assuming that the indexes of each dataframes are \n",
      "aligned. This assumption is not generally safe.\n",
      "  warn(\"Concatenating dataframes with unknown divisions.\\n\"\n"
     ]
    }
   ],
   "source": [
    "Final_Control_States = dd.concat([df_float, trn, BV1], axis=1)"
   ]
  },
  {
   "cell_type": "code",
   "execution_count": 33,
   "metadata": {},
   "outputs": [
    {
     "data": {
      "text/plain": [
       "Sum_RAD_QTY_9L                                    float64\n",
       "TradeAreaVolume_RAD_QTY_9L                        float64\n",
       "TradeAreaBVVolume                                 float64\n",
       "Female-21                                         float64\n",
       "Female-65                                         float64\n",
       "Male-21                                           float64\n",
       "Male-65                                           float64\n",
       "Asian 21                                          float64\n",
       "Asian 65                                          float64\n",
       "AfAm 21                                           float64\n",
       "AfAm 65                                           float64\n",
       "Hisp 21                                           float64\n",
       "Hisp 65                                           float64\n",
       "White 21                                          float64\n",
       "White 65                                          float64\n",
       "AvgHomeExp-Beer                                   float64\n",
       "AvgHomeExp-Whiskey                                float64\n",
       "AvgHomeExp-Wine                                   float64\n",
       "AvgHomeExp-Others                                 float64\n",
       "AvgAwayExp-Beer                                   float64\n",
       "AvgAwayExp-Wine                                   float64\n",
       "AvgAwayExp-Other                                  float64\n",
       "AvgExp-OnTrips                                    float64\n",
       "Age 21-34                                         float64\n",
       "Age 34+                                           float64\n",
       "Income Low                                        float64\n",
       "Income Mid                                        float64\n",
       "Income High                                       float64\n",
       "Product_Ciroc Red Berry Vodka 0.05L                 uint8\n",
       "Product_Ciroc Red Berry Vodka 1.0L                  uint8\n",
       "                                                   ...   \n",
       "Product_DeLeon Platinum 1.75L                       uint8\n",
       "Product_DeLeon Reposado                             uint8\n",
       "Product_DeLeon Reposado 0.375L                      uint8\n",
       "Product_Don Julio 1942                              uint8\n",
       "Product_Don Julio 1942 0.75L                        uint8\n",
       "Product_Don Julio 1942 1.75L                        uint8\n",
       "Product_Don Julio 70 Anejo                          uint8\n",
       "Product_Don Julio 70 Anejo 0.75L                    uint8\n",
       "Product_Don Julio Real                              uint8\n",
       "Product_George Dickel Barrel Select 0.75L           uint8\n",
       "Product_George Dickel No12 0.75L                    uint8\n",
       "Product_George Dickel Rye 1.0L                      uint8\n",
       "Product_George Dickel Tabasco Barrel Finish         uint8\n",
       "Product_JW Aged 18 Years                            uint8\n",
       "Product_JW Aged 18 Years 0.2L                       uint8\n",
       "Product_JW Aged 18 Years 0.75L                      uint8\n",
       "Product_JW Black Label 0.05L                        uint8\n",
       "Product_JW Black Label 0.2L                         uint8\n",
       "Product_JW Black Label The Jane Walker Edition      uint8\n",
       "Product_JW Blue Label 0.2L                          uint8\n",
       "Product_JW Blue Label 0.75L                         uint8\n",
       "Product_JW Blue Label Ghost and Rare                uint8\n",
       "Product_JW Blue Label Ghost and Rare 0.75L          uint8\n",
       "Product_JW Double Black                             uint8\n",
       "Product_JW Red Label 0.2L                           uint8\n",
       "Product_JW Red Label 0.375L                         uint8\n",
       "Product_JW The Collection 0.2L                      uint8\n",
       "Status_New                                          uint8\n",
       "Status_Existing                                     uint8\n",
       "Product                                            object\n",
       "Length: 88, dtype: object"
      ]
     },
     "execution_count": 33,
     "metadata": {},
     "output_type": "execute_result"
    }
   ],
   "source": [
    "Final_Control_States.dtypes"
   ]
  },
  {
   "cell_type": "code",
   "execution_count": 34,
   "metadata": {
    "collapsed": true
   },
   "outputs": [],
   "source": [
    "#Final_Control_States = Final_Control_States.drop(['BV_TradeAreaVolume'],axis=1)"
   ]
  },
  {
   "cell_type": "code",
   "execution_count": 35,
   "metadata": {},
   "outputs": [
    {
     "name": "stderr",
     "output_type": "stream",
     "text": [
      "C:\\ProgramData\\Anaconda3\\lib\\site-packages\\sklearn\\cross_validation.py:41: DeprecationWarning: This module was deprecated in version 0.18 in favor of the model_selection module into which all the refactored classes and functions are moved. Also note that the interface of the new CV iterators are different from that of this module. This module will be removed in 0.20.\n",
      "  \"This module will be removed in 0.20.\", DeprecationWarning)\n"
     ]
    }
   ],
   "source": [
    "from sklearn.ensemble import RandomForestClassifier\n",
    "from sklearn.ensemble import RandomForestRegressor\n",
    "from sklearn.cross_validation import train_test_split"
   ]
  },
  {
   "cell_type": "code",
   "execution_count": 36,
   "metadata": {
    "collapsed": true
   },
   "outputs": [],
   "source": [
    "BV_List = list(BV_List)"
   ]
  },
  {
   "cell_type": "code",
   "execution_count": 37,
   "metadata": {},
   "outputs": [
    {
     "data": {
      "text/plain": [
       "['Don Julio 70 Anejo 0.75L',\n",
       " 'George Dickel Tabasco Barrel Finish',\n",
       " 'DeLeon Platinum',\n",
       " 'DeLeon Platinum 0.05L',\n",
       " 'JW Double Black',\n",
       " 'Ciroc Vodka 0.05L',\n",
       " 'Cragganmore 12YO',\n",
       " 'DeLeon Platinum 0.375L',\n",
       " 'JW Black Label 0.05L',\n",
       " 'Don Julio 1942',\n",
       " 'DeLeon Platinum 1.75L',\n",
       " 'Dalwhinnie 25YO 0.75L',\n",
       " 'JW Aged 18 Years 0.2L',\n",
       " 'Ciroc Vodka',\n",
       " 'Crown Royal Honey',\n",
       " 'DeLeon Extra Anejo 0.75L',\n",
       " 'DeLeon Platinum 0.75L',\n",
       " 'JW Blue Label 0.2L',\n",
       " 'JW Blue Label Ghost and Rare',\n",
       " 'JW Aged 18 Years 0.75L',\n",
       " 'Ciroc Summer Colada 0.75L',\n",
       " 'Crown Royal Canadian Whiskey 0.05L',\n",
       " 'Ciroc Summer Colada 1.0L',\n",
       " 'Crown Royal Maple Finished',\n",
       " 'Crown Royal Canadian Whiskey 0.75L',\n",
       " 'DeLeon Reposado 0.375L',\n",
       " 'George Dickel Barrel Select 0.75L',\n",
       " 'JW Blue Label 0.75L',\n",
       " 'Crown Royal Northern Harvest Rye 0.05L',\n",
       " 'Crown Royal Vanilla 1.75L',\n",
       " 'JW Blue Label Ghost and Rare 0.75L',\n",
       " 'Don Julio 1942 1.75L',\n",
       " 'Ciroc Vodka 1.75L',\n",
       " 'Don Julio Real',\n",
       " 'DeLeon Reposado',\n",
       " 'Ciroc Summer Colada 0.375L',\n",
       " 'Dalwhinnie Distillers Edition',\n",
       " 'JW The Collection 0.2L',\n",
       " 'Crown Royal Texas Mesquite Smoked Whisky',\n",
       " 'JW Aged 18 Years',\n",
       " 'Crown Royal Black 0.75L',\n",
       " 'Ciroc Red Berry Vodka 1.75L',\n",
       " 'JW Black Label The Jane Walker Edition',\n",
       " 'JW Red Label 0.2L',\n",
       " 'George Dickel No12 0.75L',\n",
       " 'Don Julio 70 Anejo',\n",
       " 'Crown Royal XR',\n",
       " 'JW Red Label 0.375L',\n",
       " 'Ciroc Red Berry Vodka 0.05L',\n",
       " 'Ciroc Ten',\n",
       " 'JW Black Label 0.2L',\n",
       " 'Crown Royal Vanilla 0.75L',\n",
       " 'George Dickel Rye 1.0L',\n",
       " 'Ciroc Red Berry Vodka 1.0L',\n",
       " 'Crown Royal Salted Caramel 0.75L',\n",
       " 'Crown Royal Texas Mesquite Smoked Whisky 0.75L',\n",
       " 'Don Julio 1942 0.75L']"
      ]
     },
     "execution_count": 37,
     "metadata": {},
     "output_type": "execute_result"
    }
   ],
   "source": [
    "BV_List"
   ]
  },
  {
   "cell_type": "code",
   "execution_count": 38,
   "metadata": {
    "collapsed": true
   },
   "outputs": [],
   "source": [
    "#Final_Control_States = Final_Control_States.drop(['LONGITUDE'],axis=1)"
   ]
  },
  {
   "cell_type": "code",
   "execution_count": 39,
   "metadata": {
    "collapsed": true
   },
   "outputs": [],
   "source": [
    "Final_Control_States_Existing = Final_Control_States[Final_Control_States['Status_Existing']==1]"
   ]
  },
  {
   "cell_type": "code",
   "execution_count": 40,
   "metadata": {
    "collapsed": true
   },
   "outputs": [],
   "source": [
    "Final_Control_States_New = Final_Control_States[Final_Control_States['Status_New']==1]"
   ]
  },
  {
   "cell_type": "code",
   "execution_count": 41,
   "metadata": {
    "collapsed": true
   },
   "outputs": [],
   "source": [
    "Control_States_Existing = Control_States[Control_States['Status']==\"Existing\"]"
   ]
  },
  {
   "cell_type": "code",
   "execution_count": 42,
   "metadata": {
    "collapsed": true
   },
   "outputs": [],
   "source": [
    "Control_States_New = Control_States[Control_States['Status']==\"New\"]"
   ]
  },
  {
   "cell_type": "code",
   "execution_count": 43,
   "metadata": {
    "collapsed": true
   },
   "outputs": [],
   "source": [
    "import dask_ml.joblib\n",
    "from dask.distributed import Client\n",
    "from sklearn.externals import joblib\n",
    "from dask.distributed import Client, LocalCluster"
   ]
  },
  {
   "cell_type": "code",
   "execution_count": 44,
   "metadata": {
    "collapsed": true
   },
   "outputs": [],
   "source": [
    "cluster = LocalCluster()\n",
    "client= Client()"
   ]
  },
  {
   "cell_type": "code",
   "execution_count": 45,
   "metadata": {},
   "outputs": [
    {
     "data": {
      "text/html": [
       "<table style=\"border: 2px solid white;\">\n",
       "<tr>\n",
       "<td style=\"vertical-align: top; border: 0px solid white\">\n",
       "<h3>Client</h3>\n",
       "<ul>\n",
       "  <li><b>Scheduler: </b>tcp://127.0.0.1:56852\n",
       "  <li><b>Dashboard: </b><a href='http://127.0.0.1:56853/status' target='_blank'>http://127.0.0.1:56853/status</a>\n",
       "</ul>\n",
       "</td>\n",
       "<td style=\"vertical-align: top; border: 0px solid white\">\n",
       "<h3>Cluster</h3>\n",
       "<ul>\n",
       "  <li><b>Workers: </b>32</li>\n",
       "  <li><b>Cores: </b>32</li>\n",
       "  <li><b>Memory: </b>137.44 GB</li>\n",
       "</ul>\n",
       "</td>\n",
       "</tr>\n",
       "</table>"
      ],
      "text/plain": [
       "<Client: scheduler='tcp://127.0.0.1:56852' processes=32 cores=32>"
      ]
     },
     "execution_count": 45,
     "metadata": {},
     "output_type": "execute_result"
    }
   ],
   "source": [
    "client"
   ]
  },
  {
   "cell_type": "code",
   "execution_count": 46,
   "metadata": {
    "collapsed": true
   },
   "outputs": [],
   "source": [
    "import dask.distributed\n",
    "c = dask.distributed.Client()"
   ]
  },
  {
   "cell_type": "code",
   "execution_count": 47,
   "metadata": {},
   "outputs": [
    {
     "name": "stderr",
     "output_type": "stream",
     "text": [
      "C:\\ProgramData\\Anaconda3\\lib\\site-packages\\ipykernel_launcher.py:44: DataConversionWarning: A column-vector y was passed when a 1d array was expected. Please change the shape of y to (n_samples,), for example using ravel().\n"
     ]
    },
    {
     "name": "stdout",
     "output_type": "stream",
     "text": [
      "0\n",
      "Don Julio 70 Anejo 0.75L\n",
      "466 NO_Rows_in_training\n",
      "5878 NO_Rows_in Validation\n",
      "0.8441535394287298R2_Training\n",
      "0.0R2_validation\n",
      "19.65712881088257 seconds\n"
     ]
    },
    {
     "name": "stderr",
     "output_type": "stream",
     "text": [
      "C:\\ProgramData\\Anaconda3\\lib\\site-packages\\ipykernel_launcher.py:44: DataConversionWarning: A column-vector y was passed when a 1d array was expected. Please change the shape of y to (n_samples,), for example using ravel().\n"
     ]
    },
    {
     "name": "stdout",
     "output_type": "stream",
     "text": [
      "1\n",
      "George Dickel Tabasco Barrel Finish\n",
      "425 NO_Rows_in_training\n",
      "5922 NO_Rows_in Validation\n",
      "0.7677334909427185R2_Training\n",
      "0.0R2_validation\n",
      "19.235128164291382 seconds\n"
     ]
    },
    {
     "name": "stderr",
     "output_type": "stream",
     "text": [
      "C:\\ProgramData\\Anaconda3\\lib\\site-packages\\ipykernel_launcher.py:44: DataConversionWarning: A column-vector y was passed when a 1d array was expected. Please change the shape of y to (n_samples,), for example using ravel().\n"
     ]
    },
    {
     "name": "stdout",
     "output_type": "stream",
     "text": [
      "2\n",
      "DeLeon Platinum\n",
      "299 NO_Rows_in_training\n",
      "6045 NO_Rows_in Validation\n",
      "0.7279646018666462R2_Training\n",
      "0.0R2_validation\n",
      "19.070154190063477 seconds\n"
     ]
    },
    {
     "name": "stderr",
     "output_type": "stream",
     "text": [
      "C:\\ProgramData\\Anaconda3\\lib\\site-packages\\ipykernel_launcher.py:44: DataConversionWarning: A column-vector y was passed when a 1d array was expected. Please change the shape of y to (n_samples,), for example using ravel().\n"
     ]
    },
    {
     "name": "stdout",
     "output_type": "stream",
     "text": [
      "3\n",
      "DeLeon Platinum 0.05L\n",
      "9 NO_Rows_in_training\n",
      "6335 NO_Rows_in Validation\n",
      "0.755833984725807R2_Training\n",
      "0.0R2_validation\n",
      "17.755109786987305 seconds\n"
     ]
    },
    {
     "name": "stderr",
     "output_type": "stream",
     "text": [
      "C:\\ProgramData\\Anaconda3\\lib\\site-packages\\ipykernel_launcher.py:44: DataConversionWarning: A column-vector y was passed when a 1d array was expected. Please change the shape of y to (n_samples,), for example using ravel().\n"
     ]
    },
    {
     "name": "stdout",
     "output_type": "stream",
     "text": [
      "4\n",
      "JW Double Black\n",
      "21 NO_Rows_in_training\n",
      "6323 NO_Rows_in Validation\n",
      "0.8481610809058032R2_Training\n",
      "0.0R2_validation\n",
      "17.582119703292847 seconds\n"
     ]
    },
    {
     "name": "stderr",
     "output_type": "stream",
     "text": [
      "C:\\ProgramData\\Anaconda3\\lib\\site-packages\\ipykernel_launcher.py:44: DataConversionWarning: A column-vector y was passed when a 1d array was expected. Please change the shape of y to (n_samples,), for example using ravel().\n"
     ]
    },
    {
     "name": "stdout",
     "output_type": "stream",
     "text": [
      "5\n",
      "Ciroc Vodka 0.05L\n",
      "51 NO_Rows_in_training\n",
      "6293 NO_Rows_in Validation\n",
      "0.830342619038667R2_Training\n",
      "0.0R2_validation\n",
      "17.788114070892334 seconds\n"
     ]
    },
    {
     "name": "stderr",
     "output_type": "stream",
     "text": [
      "C:\\ProgramData\\Anaconda3\\lib\\site-packages\\ipykernel_launcher.py:44: DataConversionWarning: A column-vector y was passed when a 1d array was expected. Please change the shape of y to (n_samples,), for example using ravel().\n"
     ]
    },
    {
     "name": "stdout",
     "output_type": "stream",
     "text": [
      "6\n",
      "Cragganmore 12YO\n",
      "52 NO_Rows_in_training\n",
      "6292 NO_Rows_in Validation\n",
      "0.8015007889508475R2_Training\n",
      "0.0R2_validation\n",
      "17.69816279411316 seconds\n"
     ]
    },
    {
     "name": "stderr",
     "output_type": "stream",
     "text": [
      "C:\\ProgramData\\Anaconda3\\lib\\site-packages\\ipykernel_launcher.py:44: DataConversionWarning: A column-vector y was passed when a 1d array was expected. Please change the shape of y to (n_samples,), for example using ravel().\n"
     ]
    },
    {
     "name": "stdout",
     "output_type": "stream",
     "text": [
      "7\n",
      "DeLeon Platinum 0.375L\n",
      "14 NO_Rows_in_training\n",
      "6330 NO_Rows_in Validation\n",
      "0.725846613078619R2_Training\n",
      "0.0R2_validation\n",
      "18.077764749526978 seconds\n"
     ]
    },
    {
     "name": "stderr",
     "output_type": "stream",
     "text": [
      "C:\\ProgramData\\Anaconda3\\lib\\site-packages\\ipykernel_launcher.py:44: DataConversionWarning: A column-vector y was passed when a 1d array was expected. Please change the shape of y to (n_samples,), for example using ravel().\n"
     ]
    },
    {
     "name": "stdout",
     "output_type": "stream",
     "text": [
      "8\n",
      "JW Black Label 0.05L\n",
      "132 NO_Rows_in_training\n",
      "6212 NO_Rows_in Validation\n",
      "0.8499690115496312R2_Training\n",
      "0.0R2_validation\n",
      "18.052647590637207 seconds\n"
     ]
    },
    {
     "name": "stderr",
     "output_type": "stream",
     "text": [
      "C:\\ProgramData\\Anaconda3\\lib\\site-packages\\ipykernel_launcher.py:44: DataConversionWarning: A column-vector y was passed when a 1d array was expected. Please change the shape of y to (n_samples,), for example using ravel().\n"
     ]
    },
    {
     "name": "stdout",
     "output_type": "stream",
     "text": [
      "9\n",
      "Don Julio 1942\n",
      "842 NO_Rows_in_training\n",
      "5515 NO_Rows_in Validation\n",
      "0.6444834764349052R2_Training\n",
      "0.0R2_validation\n",
      "20.96162509918213 seconds\n"
     ]
    },
    {
     "name": "stderr",
     "output_type": "stream",
     "text": [
      "C:\\ProgramData\\Anaconda3\\lib\\site-packages\\ipykernel_launcher.py:44: DataConversionWarning: A column-vector y was passed when a 1d array was expected. Please change the shape of y to (n_samples,), for example using ravel().\n"
     ]
    },
    {
     "name": "stdout",
     "output_type": "stream",
     "text": [
      "10\n",
      "DeLeon Platinum 1.75L\n",
      "6 NO_Rows_in_training\n",
      "6338 NO_Rows_in Validation\n",
      "0.7582658173489137R2_Training\n",
      "0.0R2_validation\n",
      "17.78245210647583 seconds\n"
     ]
    },
    {
     "name": "stderr",
     "output_type": "stream",
     "text": [
      "C:\\ProgramData\\Anaconda3\\lib\\site-packages\\ipykernel_launcher.py:44: DataConversionWarning: A column-vector y was passed when a 1d array was expected. Please change the shape of y to (n_samples,), for example using ravel().\n"
     ]
    },
    {
     "name": "stdout",
     "output_type": "stream",
     "text": [
      "11\n",
      "Dalwhinnie 25YO 0.75L\n",
      "2 NO_Rows_in_training\n",
      "6342 NO_Rows_in Validation\n",
      "0.6395999999999997R2_Training\n",
      "0.0R2_validation\n",
      "17.66647696495056 seconds\n"
     ]
    },
    {
     "name": "stderr",
     "output_type": "stream",
     "text": [
      "C:\\ProgramData\\Anaconda3\\lib\\site-packages\\ipykernel_launcher.py:44: DataConversionWarning: A column-vector y was passed when a 1d array was expected. Please change the shape of y to (n_samples,), for example using ravel().\n"
     ]
    },
    {
     "name": "stdout",
     "output_type": "stream",
     "text": [
      "12\n",
      "JW Aged 18 Years 0.2L\n",
      "13 NO_Rows_in_training\n",
      "6331 NO_Rows_in Validation\n",
      "0.7414138681087769R2_Training\n",
      "0.0R2_validation\n",
      "18.01036310195923 seconds\n"
     ]
    },
    {
     "name": "stderr",
     "output_type": "stream",
     "text": [
      "C:\\ProgramData\\Anaconda3\\lib\\site-packages\\ipykernel_launcher.py:44: DataConversionWarning: A column-vector y was passed when a 1d array was expected. Please change the shape of y to (n_samples,), for example using ravel().\n"
     ]
    },
    {
     "name": "stdout",
     "output_type": "stream",
     "text": [
      "13\n",
      "Ciroc Vodka\n",
      "384 NO_Rows_in_training\n",
      "5971 NO_Rows_in Validation\n",
      "0.7481994850903597R2_Training\n",
      "0.0R2_validation\n",
      "18.74736523628235 seconds\n"
     ]
    },
    {
     "name": "stderr",
     "output_type": "stream",
     "text": [
      "C:\\ProgramData\\Anaconda3\\lib\\site-packages\\ipykernel_launcher.py:44: DataConversionWarning: A column-vector y was passed when a 1d array was expected. Please change the shape of y to (n_samples,), for example using ravel().\n"
     ]
    },
    {
     "name": "stdout",
     "output_type": "stream",
     "text": [
      "14\n",
      "Crown Royal Honey\n",
      "2 NO_Rows_in_training\n",
      "6342 NO_Rows_in Validation\n",
      "0.730999999999999R2_Training\n",
      "0.0R2_validation\n",
      "17.6623432636261 seconds\n"
     ]
    },
    {
     "name": "stderr",
     "output_type": "stream",
     "text": [
      "C:\\ProgramData\\Anaconda3\\lib\\site-packages\\ipykernel_launcher.py:44: DataConversionWarning: A column-vector y was passed when a 1d array was expected. Please change the shape of y to (n_samples,), for example using ravel().\n"
     ]
    },
    {
     "name": "stdout",
     "output_type": "stream",
     "text": [
      "15\n",
      "DeLeon Extra Anejo 0.75L\n",
      "2 NO_Rows_in_training\n",
      "6342 NO_Rows_in Validation\n",
      "0.0R2_Training\n",
      "0.0R2_validation\n",
      "17.431225538253784 seconds\n"
     ]
    },
    {
     "name": "stderr",
     "output_type": "stream",
     "text": [
      "C:\\ProgramData\\Anaconda3\\lib\\site-packages\\ipykernel_launcher.py:44: DataConversionWarning: A column-vector y was passed when a 1d array was expected. Please change the shape of y to (n_samples,), for example using ravel().\n"
     ]
    },
    {
     "name": "stdout",
     "output_type": "stream",
     "text": [
      "16\n",
      "DeLeon Platinum 0.75L\n",
      "338 NO_Rows_in_training\n",
      "6006 NO_Rows_in Validation\n",
      "0.8361073268963185R2_Training\n",
      "0.0R2_validation\n",
      "20.052248239517212 seconds\n"
     ]
    },
    {
     "name": "stderr",
     "output_type": "stream",
     "text": [
      "C:\\ProgramData\\Anaconda3\\lib\\site-packages\\ipykernel_launcher.py:44: DataConversionWarning: A column-vector y was passed when a 1d array was expected. Please change the shape of y to (n_samples,), for example using ravel().\n"
     ]
    },
    {
     "name": "stdout",
     "output_type": "stream",
     "text": [
      "17\n",
      "JW Blue Label 0.2L\n",
      "34 NO_Rows_in_training\n",
      "6310 NO_Rows_in Validation\n",
      "0.8096651303350259R2_Training\n",
      "0.0R2_validation\n",
      "18.776246070861816 seconds\n"
     ]
    },
    {
     "name": "stderr",
     "output_type": "stream",
     "text": [
      "C:\\ProgramData\\Anaconda3\\lib\\site-packages\\ipykernel_launcher.py:44: DataConversionWarning: A column-vector y was passed when a 1d array was expected. Please change the shape of y to (n_samples,), for example using ravel().\n"
     ]
    },
    {
     "name": "stdout",
     "output_type": "stream",
     "text": [
      "18\n",
      "JW Blue Label Ghost and Rare\n",
      "2 NO_Rows_in_training\n",
      "6342 NO_Rows_in Validation\n",
      "0.7973999999999986R2_Training\n",
      "0.0R2_validation\n",
      "18.480242252349854 seconds\n"
     ]
    },
    {
     "name": "stderr",
     "output_type": "stream",
     "text": [
      "C:\\ProgramData\\Anaconda3\\lib\\site-packages\\ipykernel_launcher.py:44: DataConversionWarning: A column-vector y was passed when a 1d array was expected. Please change the shape of y to (n_samples,), for example using ravel().\n"
     ]
    },
    {
     "name": "stdout",
     "output_type": "stream",
     "text": [
      "19\n",
      "JW Aged 18 Years 0.75L\n",
      "381 NO_Rows_in_training\n",
      "5963 NO_Rows_in Validation\n",
      "0.8355425560757993R2_Training\n",
      "0.0R2_validation\n",
      "20.424266815185547 seconds\n"
     ]
    },
    {
     "name": "stderr",
     "output_type": "stream",
     "text": [
      "C:\\ProgramData\\Anaconda3\\lib\\site-packages\\ipykernel_launcher.py:44: DataConversionWarning: A column-vector y was passed when a 1d array was expected. Please change the shape of y to (n_samples,), for example using ravel().\n"
     ]
    },
    {
     "name": "stdout",
     "output_type": "stream",
     "text": [
      "20\n",
      "Ciroc Summer Colada 0.75L\n",
      "246 NO_Rows_in_training\n",
      "6098 NO_Rows_in Validation\n",
      "0.8766456419214195R2_Training\n",
      "0.0R2_validation\n",
      "20.508127212524414 seconds\n"
     ]
    },
    {
     "name": "stderr",
     "output_type": "stream",
     "text": [
      "C:\\ProgramData\\Anaconda3\\lib\\site-packages\\ipykernel_launcher.py:44: DataConversionWarning: A column-vector y was passed when a 1d array was expected. Please change the shape of y to (n_samples,), for example using ravel().\n"
     ]
    },
    {
     "name": "stdout",
     "output_type": "stream",
     "text": [
      "21\n",
      "Crown Royal Canadian Whiskey 0.05L\n",
      "1151 NO_Rows_in_training\n",
      "5193 NO_Rows_in Validation\n",
      "0.8256221488156801R2_Training\n",
      "0.0R2_validation\n",
      "22.800127744674683 seconds\n"
     ]
    },
    {
     "name": "stderr",
     "output_type": "stream",
     "text": [
      "C:\\ProgramData\\Anaconda3\\lib\\site-packages\\ipykernel_launcher.py:44: DataConversionWarning: A column-vector y was passed when a 1d array was expected. Please change the shape of y to (n_samples,), for example using ravel().\n"
     ]
    },
    {
     "name": "stdout",
     "output_type": "stream",
     "text": [
      "22\n",
      "Ciroc Summer Colada 1.0L\n",
      "5 NO_Rows_in_training\n",
      "6339 NO_Rows_in Validation\n",
      "0.8554307461950574R2_Training\n",
      "0.0R2_validation\n",
      "18.83511781692505 seconds\n"
     ]
    },
    {
     "name": "stderr",
     "output_type": "stream",
     "text": [
      "C:\\ProgramData\\Anaconda3\\lib\\site-packages\\ipykernel_launcher.py:44: DataConversionWarning: A column-vector y was passed when a 1d array was expected. Please change the shape of y to (n_samples,), for example using ravel().\n"
     ]
    },
    {
     "name": "stdout",
     "output_type": "stream",
     "text": [
      "23\n",
      "Crown Royal Maple Finished\n",
      "41 NO_Rows_in_training\n",
      "6303 NO_Rows_in Validation\n",
      "0.8417750422709561R2_Training\n",
      "0.0R2_validation\n",
      "18.93012046813965 seconds\n"
     ]
    },
    {
     "name": "stderr",
     "output_type": "stream",
     "text": [
      "C:\\ProgramData\\Anaconda3\\lib\\site-packages\\ipykernel_launcher.py:44: DataConversionWarning: A column-vector y was passed when a 1d array was expected. Please change the shape of y to (n_samples,), for example using ravel().\n"
     ]
    },
    {
     "name": "stdout",
     "output_type": "stream",
     "text": [
      "24\n",
      "Crown Royal Canadian Whiskey 0.75L\n",
      "1345 NO_Rows_in_training\n",
      "4999 NO_Rows_in Validation\n",
      "0.7910632909439385R2_Training\n",
      "0.0R2_validation\n",
      "22.907129764556885 seconds\n"
     ]
    },
    {
     "name": "stderr",
     "output_type": "stream",
     "text": [
      "C:\\ProgramData\\Anaconda3\\lib\\site-packages\\ipykernel_launcher.py:44: DataConversionWarning: A column-vector y was passed when a 1d array was expected. Please change the shape of y to (n_samples,), for example using ravel().\n"
     ]
    },
    {
     "name": "stdout",
     "output_type": "stream",
     "text": [
      "25\n",
      "DeLeon Reposado 0.375L\n",
      "6 NO_Rows_in_training\n",
      "6338 NO_Rows_in Validation\n",
      "0.7313466733955961R2_Training\n",
      "0.0R2_validation\n",
      "19.105130434036255 seconds\n"
     ]
    },
    {
     "name": "stderr",
     "output_type": "stream",
     "text": [
      "C:\\ProgramData\\Anaconda3\\lib\\site-packages\\ipykernel_launcher.py:44: DataConversionWarning: A column-vector y was passed when a 1d array was expected. Please change the shape of y to (n_samples,), for example using ravel().\n"
     ]
    },
    {
     "name": "stdout",
     "output_type": "stream",
     "text": [
      "26\n",
      "George Dickel Barrel Select 0.75L\n",
      "61 NO_Rows_in_training\n",
      "6283 NO_Rows_in Validation\n",
      "0.7959349457381595R2_Training\n",
      "0.0R2_validation\n",
      "18.83712077140808 seconds\n"
     ]
    },
    {
     "name": "stderr",
     "output_type": "stream",
     "text": [
      "C:\\ProgramData\\Anaconda3\\lib\\site-packages\\ipykernel_launcher.py:44: DataConversionWarning: A column-vector y was passed when a 1d array was expected. Please change the shape of y to (n_samples,), for example using ravel().\n"
     ]
    },
    {
     "name": "stdout",
     "output_type": "stream",
     "text": [
      "27\n",
      "JW Blue Label 0.75L\n",
      "533 NO_Rows_in_training\n",
      "5811 NO_Rows_in Validation\n",
      "0.799893979438659R2_Training\n",
      "0.0R2_validation\n",
      "21.454151391983032 seconds\n"
     ]
    },
    {
     "name": "stderr",
     "output_type": "stream",
     "text": [
      "C:\\ProgramData\\Anaconda3\\lib\\site-packages\\ipykernel_launcher.py:44: DataConversionWarning: A column-vector y was passed when a 1d array was expected. Please change the shape of y to (n_samples,), for example using ravel().\n"
     ]
    },
    {
     "name": "stdout",
     "output_type": "stream",
     "text": [
      "28\n",
      "Crown Royal Northern Harvest Rye 0.05L\n",
      "17 NO_Rows_in_training\n",
      "6327 NO_Rows_in Validation\n",
      "0.7925121115495142R2_Training\n",
      "0.0R2_validation\n",
      "19.545278549194336 seconds\n"
     ]
    },
    {
     "name": "stderr",
     "output_type": "stream",
     "text": [
      "C:\\ProgramData\\Anaconda3\\lib\\site-packages\\ipykernel_launcher.py:44: DataConversionWarning: A column-vector y was passed when a 1d array was expected. Please change the shape of y to (n_samples,), for example using ravel().\n"
     ]
    },
    {
     "name": "stdout",
     "output_type": "stream",
     "text": [
      "29\n",
      "Crown Royal Vanilla 1.75L\n",
      "393 NO_Rows_in_training\n",
      "5951 NO_Rows_in Validation\n",
      "0.8503954496510772R2_Training\n",
      "0.0R2_validation\n",
      "21.00275421142578 seconds\n"
     ]
    },
    {
     "name": "stderr",
     "output_type": "stream",
     "text": [
      "C:\\ProgramData\\Anaconda3\\lib\\site-packages\\ipykernel_launcher.py:44: DataConversionWarning: A column-vector y was passed when a 1d array was expected. Please change the shape of y to (n_samples,), for example using ravel().\n"
     ]
    },
    {
     "name": "stdout",
     "output_type": "stream",
     "text": [
      "30\n",
      "JW Blue Label Ghost and Rare 0.75L\n",
      "18 NO_Rows_in_training\n",
      "6326 NO_Rows_in Validation\n",
      "0.8654428830253176R2_Training\n",
      "0.0R2_validation\n",
      "18.97456455230713 seconds\n"
     ]
    },
    {
     "name": "stderr",
     "output_type": "stream",
     "text": [
      "C:\\ProgramData\\Anaconda3\\lib\\site-packages\\ipykernel_launcher.py:44: DataConversionWarning: A column-vector y was passed when a 1d array was expected. Please change the shape of y to (n_samples,), for example using ravel().\n"
     ]
    },
    {
     "name": "stdout",
     "output_type": "stream",
     "text": [
      "31\n",
      "Don Julio 1942 1.75L\n",
      "1 NO_Rows_in_training\n",
      "6343 NO_Rows_in Validation\n",
      "0.0R2_Training\n",
      "0.0R2_validation\n",
      "19.01642894744873 seconds\n"
     ]
    },
    {
     "name": "stderr",
     "output_type": "stream",
     "text": [
      "C:\\ProgramData\\Anaconda3\\lib\\site-packages\\ipykernel_launcher.py:44: DataConversionWarning: A column-vector y was passed when a 1d array was expected. Please change the shape of y to (n_samples,), for example using ravel().\n"
     ]
    },
    {
     "name": "stdout",
     "output_type": "stream",
     "text": [
      "32\n",
      "Ciroc Vodka 1.75L\n",
      "89 NO_Rows_in_training\n",
      "6255 NO_Rows_in Validation\n",
      "0.8368534030567376R2_Training\n",
      "0.0R2_validation\n",
      "19.628074884414673 seconds\n"
     ]
    },
    {
     "name": "stderr",
     "output_type": "stream",
     "text": [
      "C:\\ProgramData\\Anaconda3\\lib\\site-packages\\ipykernel_launcher.py:44: DataConversionWarning: A column-vector y was passed when a 1d array was expected. Please change the shape of y to (n_samples,), for example using ravel().\n"
     ]
    },
    {
     "name": "stdout",
     "output_type": "stream",
     "text": [
      "33\n",
      "Don Julio Real\n",
      "55 NO_Rows_in_training\n",
      "6289 NO_Rows_in Validation\n",
      "0.8374658191173909R2_Training\n",
      "0.0R2_validation\n",
      "19.57368564605713 seconds\n"
     ]
    },
    {
     "name": "stderr",
     "output_type": "stream",
     "text": [
      "C:\\ProgramData\\Anaconda3\\lib\\site-packages\\ipykernel_launcher.py:44: DataConversionWarning: A column-vector y was passed when a 1d array was expected. Please change the shape of y to (n_samples,), for example using ravel().\n"
     ]
    },
    {
     "name": "stdout",
     "output_type": "stream",
     "text": [
      "34\n",
      "DeLeon Reposado\n",
      "93 NO_Rows_in_training\n",
      "6251 NO_Rows_in Validation\n",
      "0.596542922235417R2_Training\n",
      "0.0R2_validation\n",
      "19.49220871925354 seconds\n"
     ]
    },
    {
     "name": "stderr",
     "output_type": "stream",
     "text": [
      "C:\\ProgramData\\Anaconda3\\lib\\site-packages\\ipykernel_launcher.py:44: DataConversionWarning: A column-vector y was passed when a 1d array was expected. Please change the shape of y to (n_samples,), for example using ravel().\n"
     ]
    },
    {
     "name": "stdout",
     "output_type": "stream",
     "text": [
      "35\n",
      "Ciroc Summer Colada 0.375L\n",
      "80 NO_Rows_in_training\n",
      "6264 NO_Rows_in Validation\n",
      "0.8595725368333305R2_Training\n",
      "0.0R2_validation\n",
      "19.27568507194519 seconds\n"
     ]
    },
    {
     "name": "stderr",
     "output_type": "stream",
     "text": [
      "C:\\ProgramData\\Anaconda3\\lib\\site-packages\\ipykernel_launcher.py:44: DataConversionWarning: A column-vector y was passed when a 1d array was expected. Please change the shape of y to (n_samples,), for example using ravel().\n"
     ]
    },
    {
     "name": "stdout",
     "output_type": "stream",
     "text": [
      "36\n",
      "Dalwhinnie Distillers Edition\n",
      "10 NO_Rows_in_training\n",
      "6334 NO_Rows_in Validation\n",
      "0.7814553571187515R2_Training\n",
      "0.0R2_validation\n",
      "18.210121870040894 seconds\n"
     ]
    },
    {
     "name": "stderr",
     "output_type": "stream",
     "text": [
      "C:\\ProgramData\\Anaconda3\\lib\\site-packages\\ipykernel_launcher.py:44: DataConversionWarning: A column-vector y was passed when a 1d array was expected. Please change the shape of y to (n_samples,), for example using ravel().\n"
     ]
    },
    {
     "name": "stdout",
     "output_type": "stream",
     "text": [
      "37\n",
      "JW The Collection 0.2L\n",
      "96 NO_Rows_in_training\n",
      "6248 NO_Rows_in Validation\n",
      "0.811066934643491R2_Training\n",
      "0.0R2_validation\n",
      "18.827316761016846 seconds\n"
     ]
    },
    {
     "name": "stderr",
     "output_type": "stream",
     "text": [
      "C:\\ProgramData\\Anaconda3\\lib\\site-packages\\ipykernel_launcher.py:44: DataConversionWarning: A column-vector y was passed when a 1d array was expected. Please change the shape of y to (n_samples,), for example using ravel().\n"
     ]
    },
    {
     "name": "stdout",
     "output_type": "stream",
     "text": [
      "38\n",
      "Crown Royal Texas Mesquite Smoked Whisky\n",
      "18 NO_Rows_in_training\n",
      "6326 NO_Rows_in Validation\n",
      "0.8515770034320261R2_Training\n",
      "0.0R2_validation\n",
      "18.32563352584839 seconds\n"
     ]
    },
    {
     "name": "stderr",
     "output_type": "stream",
     "text": [
      "C:\\ProgramData\\Anaconda3\\lib\\site-packages\\ipykernel_launcher.py:44: DataConversionWarning: A column-vector y was passed when a 1d array was expected. Please change the shape of y to (n_samples,), for example using ravel().\n"
     ]
    },
    {
     "name": "stdout",
     "output_type": "stream",
     "text": [
      "39\n",
      "JW Aged 18 Years\n",
      "138 NO_Rows_in_training\n",
      "6206 NO_Rows_in Validation\n",
      "0.8011630155408326R2_Training\n",
      "0.0R2_validation\n",
      "18.293802499771118 seconds\n"
     ]
    },
    {
     "name": "stderr",
     "output_type": "stream",
     "text": [
      "C:\\ProgramData\\Anaconda3\\lib\\site-packages\\ipykernel_launcher.py:44: DataConversionWarning: A column-vector y was passed when a 1d array was expected. Please change the shape of y to (n_samples,), for example using ravel().\n"
     ]
    },
    {
     "name": "stdout",
     "output_type": "stream",
     "text": [
      "40\n",
      "Crown Royal Black 0.75L\n",
      "425 NO_Rows_in_training\n",
      "5919 NO_Rows_in Validation\n",
      "0.8187069860795958R2_Training\n",
      "0.0R2_validation\n",
      "19.69586682319641 seconds\n"
     ]
    },
    {
     "name": "stderr",
     "output_type": "stream",
     "text": [
      "C:\\ProgramData\\Anaconda3\\lib\\site-packages\\ipykernel_launcher.py:44: DataConversionWarning: A column-vector y was passed when a 1d array was expected. Please change the shape of y to (n_samples,), for example using ravel().\n"
     ]
    },
    {
     "name": "stdout",
     "output_type": "stream",
     "text": [
      "41\n",
      "Ciroc Red Berry Vodka 1.75L\n",
      "28 NO_Rows_in_training\n",
      "6316 NO_Rows_in Validation\n",
      "0.8145745122188157R2_Training\n",
      "0.0R2_validation\n",
      "18.119075536727905 seconds\n"
     ]
    },
    {
     "name": "stderr",
     "output_type": "stream",
     "text": [
      "C:\\ProgramData\\Anaconda3\\lib\\site-packages\\ipykernel_launcher.py:44: DataConversionWarning: A column-vector y was passed when a 1d array was expected. Please change the shape of y to (n_samples,), for example using ravel().\n"
     ]
    },
    {
     "name": "stdout",
     "output_type": "stream",
     "text": [
      "42\n",
      "JW Black Label The Jane Walker Edition\n",
      "7 NO_Rows_in_training\n",
      "6337 NO_Rows_in Validation\n",
      "0.9404050604564705R2_Training\n",
      "0.0R2_validation\n",
      "18.03714084625244 seconds\n"
     ]
    },
    {
     "name": "stderr",
     "output_type": "stream",
     "text": [
      "C:\\ProgramData\\Anaconda3\\lib\\site-packages\\ipykernel_launcher.py:44: DataConversionWarning: A column-vector y was passed when a 1d array was expected. Please change the shape of y to (n_samples,), for example using ravel().\n"
     ]
    },
    {
     "name": "stdout",
     "output_type": "stream",
     "text": [
      "43\n",
      "JW Red Label 0.2L\n",
      "380 NO_Rows_in_training\n",
      "5964 NO_Rows_in Validation\n",
      "0.863019527649283R2_Training\n",
      "0.0R2_validation\n",
      "19.77112603187561 seconds\n"
     ]
    },
    {
     "name": "stderr",
     "output_type": "stream",
     "text": [
      "C:\\ProgramData\\Anaconda3\\lib\\site-packages\\ipykernel_launcher.py:44: DataConversionWarning: A column-vector y was passed when a 1d array was expected. Please change the shape of y to (n_samples,), for example using ravel().\n"
     ]
    },
    {
     "name": "stdout",
     "output_type": "stream",
     "text": [
      "44\n",
      "George Dickel No12 0.75L\n",
      "330 NO_Rows_in_training\n",
      "6014 NO_Rows_in Validation\n",
      "0.8300623900593396R2_Training\n",
      "0.0R2_validation\n",
      "19.43126606941223 seconds\n"
     ]
    },
    {
     "name": "stderr",
     "output_type": "stream",
     "text": [
      "C:\\ProgramData\\Anaconda3\\lib\\site-packages\\ipykernel_launcher.py:44: DataConversionWarning: A column-vector y was passed when a 1d array was expected. Please change the shape of y to (n_samples,), for example using ravel().\n"
     ]
    },
    {
     "name": "stdout",
     "output_type": "stream",
     "text": [
      "45\n",
      "Don Julio 70 Anejo\n",
      "253 NO_Rows_in_training\n",
      "6091 NO_Rows_in Validation\n",
      "0.8136601374878958R2_Training\n",
      "0.0R2_validation\n",
      "19.660371780395508 seconds\n"
     ]
    },
    {
     "name": "stderr",
     "output_type": "stream",
     "text": [
      "C:\\ProgramData\\Anaconda3\\lib\\site-packages\\ipykernel_launcher.py:44: DataConversionWarning: A column-vector y was passed when a 1d array was expected. Please change the shape of y to (n_samples,), for example using ravel().\n"
     ]
    },
    {
     "name": "stdout",
     "output_type": "stream",
     "text": [
      "46\n",
      "Crown Royal XR\n",
      "40 NO_Rows_in_training\n",
      "6304 NO_Rows_in Validation\n",
      "0.8608336315556018R2_Training\n",
      "0.0R2_validation\n",
      "18.70439577102661 seconds\n"
     ]
    },
    {
     "name": "stderr",
     "output_type": "stream",
     "text": [
      "C:\\ProgramData\\Anaconda3\\lib\\site-packages\\ipykernel_launcher.py:44: DataConversionWarning: A column-vector y was passed when a 1d array was expected. Please change the shape of y to (n_samples,), for example using ravel().\n"
     ]
    },
    {
     "name": "stdout",
     "output_type": "stream",
     "text": [
      "47\n",
      "JW Red Label 0.375L\n",
      "551 NO_Rows_in_training\n",
      "5793 NO_Rows_in Validation\n",
      "0.8230044676247285R2_Training\n",
      "0.0R2_validation\n",
      "20.085359811782837 seconds\n"
     ]
    },
    {
     "name": "stderr",
     "output_type": "stream",
     "text": [
      "C:\\ProgramData\\Anaconda3\\lib\\site-packages\\ipykernel_launcher.py:44: DataConversionWarning: A column-vector y was passed when a 1d array was expected. Please change the shape of y to (n_samples,), for example using ravel().\n"
     ]
    },
    {
     "name": "stdout",
     "output_type": "stream",
     "text": [
      "48\n",
      "Ciroc Red Berry Vodka 0.05L\n",
      "22 NO_Rows_in_training\n",
      "6322 NO_Rows_in Validation\n",
      "0.7781203171075233R2_Training\n",
      "0.0R2_validation\n",
      "17.972580432891846 seconds\n"
     ]
    },
    {
     "name": "stderr",
     "output_type": "stream",
     "text": [
      "C:\\ProgramData\\Anaconda3\\lib\\site-packages\\ipykernel_launcher.py:44: DataConversionWarning: A column-vector y was passed when a 1d array was expected. Please change the shape of y to (n_samples,), for example using ravel().\n"
     ]
    },
    {
     "name": "stdout",
     "output_type": "stream",
     "text": [
      "49\n",
      "Ciroc Ten\n",
      "1 NO_Rows_in_training\n",
      "6343 NO_Rows_in Validation\n",
      "0.0R2_Training\n",
      "0.0R2_validation\n",
      "17.656749725341797 seconds\n"
     ]
    },
    {
     "name": "stderr",
     "output_type": "stream",
     "text": [
      "C:\\ProgramData\\Anaconda3\\lib\\site-packages\\ipykernel_launcher.py:44: DataConversionWarning: A column-vector y was passed when a 1d array was expected. Please change the shape of y to (n_samples,), for example using ravel().\n"
     ]
    },
    {
     "name": "stdout",
     "output_type": "stream",
     "text": [
      "50\n",
      "JW Black Label 0.2L\n",
      "306 NO_Rows_in_training\n",
      "6038 NO_Rows_in Validation\n",
      "0.8483878159713968R2_Training\n",
      "0.0R2_validation\n",
      "19.374486207962036 seconds\n"
     ]
    },
    {
     "name": "stderr",
     "output_type": "stream",
     "text": [
      "C:\\ProgramData\\Anaconda3\\lib\\site-packages\\ipykernel_launcher.py:44: DataConversionWarning: A column-vector y was passed when a 1d array was expected. Please change the shape of y to (n_samples,), for example using ravel().\n"
     ]
    },
    {
     "name": "stdout",
     "output_type": "stream",
     "text": [
      "51\n",
      "Crown Royal Vanilla 0.75L\n",
      "989 NO_Rows_in_training\n",
      "5355 NO_Rows_in Validation\n",
      "0.8209369511264002R2_Training\n",
      "0.0R2_validation\n",
      "22.2401385307312 seconds\n"
     ]
    },
    {
     "name": "stderr",
     "output_type": "stream",
     "text": [
      "C:\\ProgramData\\Anaconda3\\lib\\site-packages\\ipykernel_launcher.py:44: DataConversionWarning: A column-vector y was passed when a 1d array was expected. Please change the shape of y to (n_samples,), for example using ravel().\n"
     ]
    },
    {
     "name": "stdout",
     "output_type": "stream",
     "text": [
      "52\n",
      "George Dickel Rye 1.0L\n",
      "1 NO_Rows_in_training\n",
      "6343 NO_Rows_in Validation\n",
      "0.0R2_Training\n",
      "0.0R2_validation\n",
      "18.035811185836792 seconds\n"
     ]
    },
    {
     "name": "stderr",
     "output_type": "stream",
     "text": [
      "C:\\ProgramData\\Anaconda3\\lib\\site-packages\\ipykernel_launcher.py:44: DataConversionWarning: A column-vector y was passed when a 1d array was expected. Please change the shape of y to (n_samples,), for example using ravel().\n"
     ]
    },
    {
     "name": "stdout",
     "output_type": "stream",
     "text": [
      "53\n",
      "Ciroc Red Berry Vodka 1.0L\n",
      "1 NO_Rows_in_training\n",
      "6343 NO_Rows_in Validation\n",
      "0.0R2_Training\n",
      "0.0R2_validation\n",
      "18.242056369781494 seconds\n"
     ]
    },
    {
     "name": "stderr",
     "output_type": "stream",
     "text": [
      "C:\\ProgramData\\Anaconda3\\lib\\site-packages\\ipykernel_launcher.py:44: DataConversionWarning: A column-vector y was passed when a 1d array was expected. Please change the shape of y to (n_samples,), for example using ravel().\n"
     ]
    },
    {
     "name": "stdout",
     "output_type": "stream",
     "text": [
      "54\n",
      "Crown Royal Salted Caramel 0.75L\n",
      "712 NO_Rows_in_training\n",
      "5632 NO_Rows_in Validation\n",
      "0.8405397818048376R2_Training\n",
      "0.0R2_validation\n",
      "20.581767559051514 seconds\n"
     ]
    },
    {
     "name": "stderr",
     "output_type": "stream",
     "text": [
      "C:\\ProgramData\\Anaconda3\\lib\\site-packages\\ipykernel_launcher.py:44: DataConversionWarning: A column-vector y was passed when a 1d array was expected. Please change the shape of y to (n_samples,), for example using ravel().\n"
     ]
    },
    {
     "name": "stdout",
     "output_type": "stream",
     "text": [
      "55\n",
      "Crown Royal Texas Mesquite Smoked Whisky 0.75L\n",
      "479 NO_Rows_in_training\n",
      "5865 NO_Rows_in Validation\n",
      "0.8508942004568977R2_Training\n",
      "0.0R2_validation\n",
      "19.970080852508545 seconds\n"
     ]
    },
    {
     "name": "stderr",
     "output_type": "stream",
     "text": [
      "C:\\ProgramData\\Anaconda3\\lib\\site-packages\\ipykernel_launcher.py:44: DataConversionWarning: A column-vector y was passed when a 1d array was expected. Please change the shape of y to (n_samples,), for example using ravel().\n"
     ]
    },
    {
     "name": "stdout",
     "output_type": "stream",
     "text": [
      "56\n",
      "Don Julio 1942 0.75L\n",
      "581 NO_Rows_in_training\n",
      "5763 NO_Rows_in Validation\n",
      "0.813658317887722R2_Training\n",
      "0.0R2_validation\n",
      "20.87669062614441 seconds\n"
     ]
    }
   ],
   "source": [
    "#Pandas dataframe Approach\n",
    "i = 0\n",
    "prediction_set = pd.DataFrame()\n",
    "prediction = pd.DataFrame()\n",
    "prediction1_set = pd.DataFrame()\n",
    "Actual_Set = pd.DataFrame()\n",
    "Actual1_Set = pd.DataFrame()\n",
    "outlet_code = pd.DataFrame()\n",
    "outlet1_code =pd.DataFrame()\n",
    "predictor = pd.DataFrame()\n",
    "BV = pd.DataFrame()\n",
    "BV1 = pd.DataFrame()\n",
    "for i in range(0,n):\n",
    "        df = Final_Control_States_Existing\n",
    "        df1 = Final_Control_States_New\n",
    "        df = df.loc[df['Product'] == BV_List[i]]\n",
    "        df1 = df1.loc[df1['Product']== BV_List[i]]\n",
    "        bv = df.loc[:,'Product']\n",
    "        bv = bv.to_frame()\n",
    "        bv = bv.compute()\n",
    "        bv1 = df1.loc[:,'Product']\n",
    "        bv1 = bv1.to_frame()\n",
    "        bv1 = bv1.compute()\n",
    "        df_outlet = Control_States_Existing\n",
    "        df1_outlet = Control_States_New\n",
    "        df_outlet = df_outlet.loc[df_outlet['Product'] == BV_List[i]]\n",
    "        df1_outlet = df1_outlet.loc[df1_outlet['Product'] == BV_List[i]]\n",
    "        outlet = df_outlet.loc[:,'TDLINX_OUTLET_CODE']\n",
    "        outlet = outlet.to_frame()\n",
    "        outlet = outlet.compute()\n",
    "        outlet1 = df1_outlet.loc[:,'TDLINX_OUTLET_CODE']\n",
    "        outlet1 = outlet1.to_frame()\n",
    "        outlet1 = outlet1.compute()\n",
    "        X =  df.drop(['Sum_RAD_QTY_9L','Product'],axis=1)\n",
    "        X1 = df1.drop(['Sum_RAD_QTY_9L','Product'],axis =1)\n",
    "        y =  df.loc[:,'Sum_RAD_QTY_9L']\n",
    "        y =  y.to_frame()\n",
    "        y = y.compute()\n",
    "        y1 = df1.loc[:,'Sum_RAD_QTY_9L']\n",
    "        y1 = y1.to_frame()\n",
    "        y1 = y1.compute()\n",
    "        start_time = time.time()\n",
    "        est = RandomForestRegressor(n_estimators=100,max_features=\"auto\",max_depth=15)\n",
    "        Model=est.fit(X,y)\n",
    "        print(i)\n",
    "        print(str(BV_List[i]))\n",
    "        print(str(len(X))+\" \" +\"NO_Rows_in_training\")\n",
    "        print(str(len(X1))+\" \" +\"NO_Rows_in Validation\")\n",
    "        R2 = Model.score(X,y)\n",
    "        R2_Validation = Model.score(X1,y1)\n",
    "        print(str(R2) + \"R2_Training\")\n",
    "        print(str(R2_Validation) + \"R2_validation\" )\n",
    "        print(str(time.time() - start_time)+\" \"+ \"seconds\" )\n",
    "        prediction = pd.DataFrame(Model.predict(X))\n",
    "        prediction1 = pd.DataFrame(Model.predict(X1))\n",
    "        prediction_set = prediction_set.append(prediction)\n",
    "        prediction1_set = prediction1_set.append(prediction1)\n",
    "        Actual_Set = Actual_Set.append(y)\n",
    "        Actual1_Set = Actual1_Set.append(y1)\n",
    "        outlet_code = outlet_code.append(outlet)\n",
    "        outlet1_code = outlet1_code.append(outlet1)\n",
    "        BV = BV.append(bv)\n",
    "        BV1 = BV1.append(bv1)\n",
    "        "
   ]
  },
  {
   "cell_type": "code",
   "execution_count": 48,
   "metadata": {
    "collapsed": true
   },
   "outputs": [],
   "source": [
    "#df_outlet = df_outlet.to_frame()\n",
    "#df_outlet = df_outlet.compute()\n",
    "#df_outlet = df_outlet.reset_index(drop=True)"
   ]
  },
  {
   "cell_type": "code",
   "execution_count": 49,
   "metadata": {
    "collapsed": true
   },
   "outputs": [],
   "source": [
    "#df_outlet = Control_States_Existing.loc[:,'TDLINX_OUTLET_CODE']"
   ]
  },
  {
   "cell_type": "code",
   "execution_count": 50,
   "metadata": {
    "collapsed": true
   },
   "outputs": [],
   "source": [
    "#panda = Final_Control_States_Existing.compute()\n",
    "#panda = panda.reset_index(drop=True)"
   ]
  },
  {
   "cell_type": "code",
   "execution_count": 51,
   "metadata": {
    "collapsed": true
   },
   "outputs": [],
   "source": [
    "#Data = pd.concat([df_outlet,panda],axis=1)"
   ]
  },
  {
   "cell_type": "code",
   "execution_count": 52,
   "metadata": {
    "collapsed": true
   },
   "outputs": [],
   "source": [
    "#Train_Test_Validation:\n",
    "#i=0\n",
    "#Y_test = pd.DataFrame()\n",
    "#X_Test = pd.DataFrame()\n",
    "#outlet_code_train = pd.DataFrame()\n",
    "#outlet_code_test = pd.DataFrame()\n",
    "#BV_train = pd.DataFrame()\n",
    "#BV_test = pd.DataFrame()\n",
    "#Prediction_Test = pd.DataFrame()\n",
    "##Data = pd.concat([Control_States_Existing.loc[:,'TDLINX_OUTLET_CODE'],Final_Control_States_Existing],axis=1)\n",
    "#for i in range(0,5):\n",
    "#    df = Data\n",
    "#    df = df.loc[df['INDIVIDUAL_BRAND_DESC'] == BV_List[i]]\n",
    "#    X =  df.drop(['BV_Depletions'],axis=1)\n",
    "#    y =  df.loc[:,'BV_Depletions']\n",
    "#    X_train, X_test, y_train, y_test = train_test_split(\n",
    "#              X, y, test_size=0.33, random_state=42)\n",
    "#    #X_test = X_test.to_frame()\n",
    "#    #X_test = X_test.compute()\n",
    "#    y_test = y_test.to_frame()\n",
    "#    #y_test = y_test.compute()\n",
    "#    outlet = X_test.loc[:,'TDLINX_OUTLET_CODE']\n",
    "#    bv =     X_test.loc[:,'INDIVIDUAL_BRAND_DESC']\n",
    "#    X_test = X_test.drop(['TDLINX_OUTLET_CODE'],axis=1)\n",
    "#    X_train = X_train.drop(['TDLINX_OUTLET_CODE'],axis=1)\n",
    "#    X_test = X_test.drop(['INDIVIDUAL_BRAND_DESC'],axis=1)\n",
    "#    X_train = X_train.drop(['INDIVIDUAL_BRAND_DESC'],axis=1)\n",
    "#    print(str(len(X_train))+ \"no rows in X_train\")\n",
    "#    est = RandomForestRegressor(n_estimators=70,max_features=0.4,min_samples_split=50)\n",
    "#    Model=est.fit(X_train,y_train)\n",
    "    #outlet = outlet.to_frame()\n",
    "    #score = Model.score(X_test,y_test)\n",
    "    #print(score)\n",
    "    #prediction = Model.predict(X_test)\n",
    "    #prediction = pd.DataFrame(prediction)\n",
    "    ##prediction = prediction.to_frame()\n",
    "    ##outlet = outlet.compute()\n",
    "    #X_Test = X_Test.append(X_test)\n",
    "    #Y_test = Y_test.append(y_test)\n",
    "    #bv = bv.to_frame()\n",
    "    #BV_test = BV_test.append(bv)\n",
    "    #Prediction_Test = Prediction_Test.append(prediction)\n",
    "    \n",
    "    \n"
   ]
  },
  {
   "cell_type": "code",
   "execution_count": 53,
   "metadata": {
    "collapsed": true
   },
   "outputs": [],
   "source": [
    "#X_test.columns"
   ]
  },
  {
   "cell_type": "code",
   "execution_count": 54,
   "metadata": {
    "collapsed": true
   },
   "outputs": [],
   "source": [
    "BV= BV.reset_index(drop=True)\n",
    "outlet_code = outlet_code.reset_index(drop=True)\n",
    "Actual_Set = Actual_Set.reset_index(drop=True)\n",
    "prediction_set = prediction_set.reset_index(drop=True)\n",
    "Existing = pd.concat([BV,outlet_code,Actual_Set,prediction_set],axis=1)"
   ]
  },
  {
   "cell_type": "code",
   "execution_count": 55,
   "metadata": {
    "collapsed": true
   },
   "outputs": [],
   "source": [
    "BV1= BV1.reset_index(drop=True)\n",
    "outlet1_code = outlet1_code.reset_index(drop=True)\n",
    "Actual1_Set = Actual1_Set.reset_index(drop=True)\n",
    "prediction1_set = prediction1_set.reset_index(drop=True)\n",
    "New = pd.concat([BV1,outlet1_code,Actual1_Set,prediction1_set],axis=1)"
   ]
  },
  {
   "cell_type": "code",
   "execution_count": 56,
   "metadata": {
    "collapsed": true
   },
   "outputs": [],
   "source": [
    "#Existing = pd.concat([BV,outlet_code,Actual_Set,prediction_set],axis=1)"
   ]
  },
  {
   "cell_type": "code",
   "execution_count": 57,
   "metadata": {
    "collapsed": true
   },
   "outputs": [],
   "source": [
    "#New = pd.concat([BV1,outlet1_code,Actual1_Set,prediction1_set],axis=1)"
   ]
  },
  {
   "cell_type": "code",
   "execution_count": 58,
   "metadata": {
    "collapsed": true
   },
   "outputs": [],
   "source": [
    "Existing.to_csv('Existing_BVS1e.csv',header=True,index=False)"
   ]
  },
  {
   "cell_type": "code",
   "execution_count": 59,
   "metadata": {
    "collapsed": true
   },
   "outputs": [],
   "source": [
    "New.to_csv('New_BVS1e.csv',header=True,index=False)"
   ]
  },
  {
   "cell_type": "code",
   "execution_count": 60,
   "metadata": {
    "collapsed": true
   },
   "outputs": [],
   "source": [
    "New_Existing_Combined = Existing.append(New)"
   ]
  },
  {
   "cell_type": "code",
   "execution_count": 61,
   "metadata": {
    "collapsed": true
   },
   "outputs": [],
   "source": [
    "New_Existing_Combined.to_csv('New_Existing_e.csv',header=True,index=False)"
   ]
  },
  {
   "cell_type": "code",
   "execution_count": 62,
   "metadata": {
    "collapsed": true
   },
   "outputs": [],
   "source": [
    "#for col in X.columns:\n",
    "   # k = np.isnan(X[col]).sum().compute()\n",
    "    #print(col)\n",
    "    #print(k)"
   ]
  },
  {
   "cell_type": "code",
   "execution_count": 63,
   "metadata": {
    "collapsed": true
   },
   "outputs": [],
   "source": [
    "#y.isnull().sum().compute()"
   ]
  },
  {
   "cell_type": "code",
   "execution_count": 64,
   "metadata": {
    "collapsed": true
   },
   "outputs": [],
   "source": [
    "#np.all(np.isfinite(X))"
   ]
  },
  {
   "cell_type": "code",
   "execution_count": 65,
   "metadata": {
    "collapsed": true
   },
   "outputs": [],
   "source": [
    "#start_time = time.time()\n",
    "#est = RandomForestRegressor(n_estimators=100,max_features=\"auto\")\n",
    "#Model=est.fit(X,y)\n",
    "#print(str(time.time() - start_time)+\" \"+ \"seconds\" )"
   ]
  },
  {
   "cell_type": "code",
   "execution_count": null,
   "metadata": {
    "collapsed": true
   },
   "outputs": [],
   "source": []
  },
  {
   "cell_type": "code",
   "execution_count": null,
   "metadata": {
    "collapsed": true
   },
   "outputs": [],
   "source": []
  }
 ],
 "metadata": {
  "kernelspec": {
   "display_name": "Python 3",
   "language": "python",
   "name": "python3"
  },
  "language_info": {
   "codemirror_mode": {
    "name": "ipython",
    "version": 3
   },
   "file_extension": ".py",
   "mimetype": "text/x-python",
   "name": "python",
   "nbconvert_exporter": "python",
   "pygments_lexer": "ipython3",
   "version": "3.6.3"
  }
 },
 "nbformat": 4,
 "nbformat_minor": 2
}
